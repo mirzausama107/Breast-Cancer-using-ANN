{
  "nbformat": 4,
  "nbformat_minor": 0,
  "metadata": {
    "colab": {
      "name": "Breast Cancer ANN.ipynb",
      "provenance": [],
      "collapsed_sections": []
    },
    "kernelspec": {
      "name": "python3",
      "display_name": "Python 3"
    },
    "language_info": {
      "name": "python"
    }
  },
  "cells": [
    {
      "cell_type": "code",
      "metadata": {
        "id": "erFJJHGo60Fy"
      },
      "source": [
        "import pandas as pd\n",
        "import numpy as np\n",
        "import matplotlib.pyplot as plt\n",
        "import seaborn as sns\n",
        "\n",
        "from sklearn.preprocessing import LabelEncoder\n",
        "\n",
        "from sklearn.model_selection import train_test_split\n",
        "\n",
        "#importing StandardScaler\n",
        "from sklearn.preprocessing import StandardScaler\n",
        "\n",
        "import keras\n",
        "#importing sequential module\n",
        "from keras.models import Sequential\n",
        "# import dense module for hidden layers\n",
        "from keras.layers import Dense\n",
        "#importing activation functions\n",
        "from keras.layers import LeakyReLU,PReLU,ELU\n",
        "from keras.layers import Dropout\n",
        "\n",
        "from sklearn.metrics import confusion_matrix, accuracy_score, r2_score, mean_absolute_error, mean_squared_error, classification_report"
      ],
      "execution_count": 3,
      "outputs": []
    },
    {
      "cell_type": "code",
      "metadata": {
        "colab": {
          "base_uri": "https://localhost:8080/",
          "height": 461
        },
        "id": "OQiuS_Vhf1no",
        "outputId": "d91155b5-3ab9-48e3-a3c8-361243a54807"
      },
      "source": [
        "data = pd.read_csv('data.csv')\n",
        "data"
      ],
      "execution_count": 4,
      "outputs": [
        {
          "output_type": "execute_result",
          "data": {
            "text/html": [
              "<div>\n",
              "<style scoped>\n",
              "    .dataframe tbody tr th:only-of-type {\n",
              "        vertical-align: middle;\n",
              "    }\n",
              "\n",
              "    .dataframe tbody tr th {\n",
              "        vertical-align: top;\n",
              "    }\n",
              "\n",
              "    .dataframe thead th {\n",
              "        text-align: right;\n",
              "    }\n",
              "</style>\n",
              "<table border=\"1\" class=\"dataframe\">\n",
              "  <thead>\n",
              "    <tr style=\"text-align: right;\">\n",
              "      <th></th>\n",
              "      <th>id</th>\n",
              "      <th>diagnosis</th>\n",
              "      <th>radius_mean</th>\n",
              "      <th>texture_mean</th>\n",
              "      <th>perimeter_mean</th>\n",
              "      <th>area_mean</th>\n",
              "      <th>smoothness_mean</th>\n",
              "      <th>compactness_mean</th>\n",
              "      <th>concavity_mean</th>\n",
              "      <th>concave points_mean</th>\n",
              "      <th>symmetry_mean</th>\n",
              "      <th>fractal_dimension_mean</th>\n",
              "      <th>radius_se</th>\n",
              "      <th>texture_se</th>\n",
              "      <th>perimeter_se</th>\n",
              "      <th>area_se</th>\n",
              "      <th>smoothness_se</th>\n",
              "      <th>compactness_se</th>\n",
              "      <th>concavity_se</th>\n",
              "      <th>concave points_se</th>\n",
              "      <th>symmetry_se</th>\n",
              "      <th>fractal_dimension_se</th>\n",
              "      <th>radius_worst</th>\n",
              "      <th>texture_worst</th>\n",
              "      <th>perimeter_worst</th>\n",
              "      <th>area_worst</th>\n",
              "      <th>smoothness_worst</th>\n",
              "      <th>compactness_worst</th>\n",
              "      <th>concavity_worst</th>\n",
              "      <th>concave points_worst</th>\n",
              "      <th>symmetry_worst</th>\n",
              "      <th>fractal_dimension_worst</th>\n",
              "      <th>Unnamed: 32</th>\n",
              "    </tr>\n",
              "  </thead>\n",
              "  <tbody>\n",
              "    <tr>\n",
              "      <th>0</th>\n",
              "      <td>842302</td>\n",
              "      <td>M</td>\n",
              "      <td>17.99</td>\n",
              "      <td>10.38</td>\n",
              "      <td>122.80</td>\n",
              "      <td>1001.0</td>\n",
              "      <td>0.11840</td>\n",
              "      <td>0.27760</td>\n",
              "      <td>0.30010</td>\n",
              "      <td>0.14710</td>\n",
              "      <td>0.2419</td>\n",
              "      <td>0.07871</td>\n",
              "      <td>1.0950</td>\n",
              "      <td>0.9053</td>\n",
              "      <td>8.589</td>\n",
              "      <td>153.40</td>\n",
              "      <td>0.006399</td>\n",
              "      <td>0.04904</td>\n",
              "      <td>0.05373</td>\n",
              "      <td>0.01587</td>\n",
              "      <td>0.03003</td>\n",
              "      <td>0.006193</td>\n",
              "      <td>25.380</td>\n",
              "      <td>17.33</td>\n",
              "      <td>184.60</td>\n",
              "      <td>2019.0</td>\n",
              "      <td>0.16220</td>\n",
              "      <td>0.66560</td>\n",
              "      <td>0.7119</td>\n",
              "      <td>0.2654</td>\n",
              "      <td>0.4601</td>\n",
              "      <td>0.11890</td>\n",
              "      <td>NaN</td>\n",
              "    </tr>\n",
              "    <tr>\n",
              "      <th>1</th>\n",
              "      <td>842517</td>\n",
              "      <td>M</td>\n",
              "      <td>20.57</td>\n",
              "      <td>17.77</td>\n",
              "      <td>132.90</td>\n",
              "      <td>1326.0</td>\n",
              "      <td>0.08474</td>\n",
              "      <td>0.07864</td>\n",
              "      <td>0.08690</td>\n",
              "      <td>0.07017</td>\n",
              "      <td>0.1812</td>\n",
              "      <td>0.05667</td>\n",
              "      <td>0.5435</td>\n",
              "      <td>0.7339</td>\n",
              "      <td>3.398</td>\n",
              "      <td>74.08</td>\n",
              "      <td>0.005225</td>\n",
              "      <td>0.01308</td>\n",
              "      <td>0.01860</td>\n",
              "      <td>0.01340</td>\n",
              "      <td>0.01389</td>\n",
              "      <td>0.003532</td>\n",
              "      <td>24.990</td>\n",
              "      <td>23.41</td>\n",
              "      <td>158.80</td>\n",
              "      <td>1956.0</td>\n",
              "      <td>0.12380</td>\n",
              "      <td>0.18660</td>\n",
              "      <td>0.2416</td>\n",
              "      <td>0.1860</td>\n",
              "      <td>0.2750</td>\n",
              "      <td>0.08902</td>\n",
              "      <td>NaN</td>\n",
              "    </tr>\n",
              "    <tr>\n",
              "      <th>2</th>\n",
              "      <td>84300903</td>\n",
              "      <td>M</td>\n",
              "      <td>19.69</td>\n",
              "      <td>21.25</td>\n",
              "      <td>130.00</td>\n",
              "      <td>1203.0</td>\n",
              "      <td>0.10960</td>\n",
              "      <td>0.15990</td>\n",
              "      <td>0.19740</td>\n",
              "      <td>0.12790</td>\n",
              "      <td>0.2069</td>\n",
              "      <td>0.05999</td>\n",
              "      <td>0.7456</td>\n",
              "      <td>0.7869</td>\n",
              "      <td>4.585</td>\n",
              "      <td>94.03</td>\n",
              "      <td>0.006150</td>\n",
              "      <td>0.04006</td>\n",
              "      <td>0.03832</td>\n",
              "      <td>0.02058</td>\n",
              "      <td>0.02250</td>\n",
              "      <td>0.004571</td>\n",
              "      <td>23.570</td>\n",
              "      <td>25.53</td>\n",
              "      <td>152.50</td>\n",
              "      <td>1709.0</td>\n",
              "      <td>0.14440</td>\n",
              "      <td>0.42450</td>\n",
              "      <td>0.4504</td>\n",
              "      <td>0.2430</td>\n",
              "      <td>0.3613</td>\n",
              "      <td>0.08758</td>\n",
              "      <td>NaN</td>\n",
              "    </tr>\n",
              "    <tr>\n",
              "      <th>3</th>\n",
              "      <td>84348301</td>\n",
              "      <td>M</td>\n",
              "      <td>11.42</td>\n",
              "      <td>20.38</td>\n",
              "      <td>77.58</td>\n",
              "      <td>386.1</td>\n",
              "      <td>0.14250</td>\n",
              "      <td>0.28390</td>\n",
              "      <td>0.24140</td>\n",
              "      <td>0.10520</td>\n",
              "      <td>0.2597</td>\n",
              "      <td>0.09744</td>\n",
              "      <td>0.4956</td>\n",
              "      <td>1.1560</td>\n",
              "      <td>3.445</td>\n",
              "      <td>27.23</td>\n",
              "      <td>0.009110</td>\n",
              "      <td>0.07458</td>\n",
              "      <td>0.05661</td>\n",
              "      <td>0.01867</td>\n",
              "      <td>0.05963</td>\n",
              "      <td>0.009208</td>\n",
              "      <td>14.910</td>\n",
              "      <td>26.50</td>\n",
              "      <td>98.87</td>\n",
              "      <td>567.7</td>\n",
              "      <td>0.20980</td>\n",
              "      <td>0.86630</td>\n",
              "      <td>0.6869</td>\n",
              "      <td>0.2575</td>\n",
              "      <td>0.6638</td>\n",
              "      <td>0.17300</td>\n",
              "      <td>NaN</td>\n",
              "    </tr>\n",
              "    <tr>\n",
              "      <th>4</th>\n",
              "      <td>84358402</td>\n",
              "      <td>M</td>\n",
              "      <td>20.29</td>\n",
              "      <td>14.34</td>\n",
              "      <td>135.10</td>\n",
              "      <td>1297.0</td>\n",
              "      <td>0.10030</td>\n",
              "      <td>0.13280</td>\n",
              "      <td>0.19800</td>\n",
              "      <td>0.10430</td>\n",
              "      <td>0.1809</td>\n",
              "      <td>0.05883</td>\n",
              "      <td>0.7572</td>\n",
              "      <td>0.7813</td>\n",
              "      <td>5.438</td>\n",
              "      <td>94.44</td>\n",
              "      <td>0.011490</td>\n",
              "      <td>0.02461</td>\n",
              "      <td>0.05688</td>\n",
              "      <td>0.01885</td>\n",
              "      <td>0.01756</td>\n",
              "      <td>0.005115</td>\n",
              "      <td>22.540</td>\n",
              "      <td>16.67</td>\n",
              "      <td>152.20</td>\n",
              "      <td>1575.0</td>\n",
              "      <td>0.13740</td>\n",
              "      <td>0.20500</td>\n",
              "      <td>0.4000</td>\n",
              "      <td>0.1625</td>\n",
              "      <td>0.2364</td>\n",
              "      <td>0.07678</td>\n",
              "      <td>NaN</td>\n",
              "    </tr>\n",
              "    <tr>\n",
              "      <th>...</th>\n",
              "      <td>...</td>\n",
              "      <td>...</td>\n",
              "      <td>...</td>\n",
              "      <td>...</td>\n",
              "      <td>...</td>\n",
              "      <td>...</td>\n",
              "      <td>...</td>\n",
              "      <td>...</td>\n",
              "      <td>...</td>\n",
              "      <td>...</td>\n",
              "      <td>...</td>\n",
              "      <td>...</td>\n",
              "      <td>...</td>\n",
              "      <td>...</td>\n",
              "      <td>...</td>\n",
              "      <td>...</td>\n",
              "      <td>...</td>\n",
              "      <td>...</td>\n",
              "      <td>...</td>\n",
              "      <td>...</td>\n",
              "      <td>...</td>\n",
              "      <td>...</td>\n",
              "      <td>...</td>\n",
              "      <td>...</td>\n",
              "      <td>...</td>\n",
              "      <td>...</td>\n",
              "      <td>...</td>\n",
              "      <td>...</td>\n",
              "      <td>...</td>\n",
              "      <td>...</td>\n",
              "      <td>...</td>\n",
              "      <td>...</td>\n",
              "      <td>...</td>\n",
              "    </tr>\n",
              "    <tr>\n",
              "      <th>564</th>\n",
              "      <td>926424</td>\n",
              "      <td>M</td>\n",
              "      <td>21.56</td>\n",
              "      <td>22.39</td>\n",
              "      <td>142.00</td>\n",
              "      <td>1479.0</td>\n",
              "      <td>0.11100</td>\n",
              "      <td>0.11590</td>\n",
              "      <td>0.24390</td>\n",
              "      <td>0.13890</td>\n",
              "      <td>0.1726</td>\n",
              "      <td>0.05623</td>\n",
              "      <td>1.1760</td>\n",
              "      <td>1.2560</td>\n",
              "      <td>7.673</td>\n",
              "      <td>158.70</td>\n",
              "      <td>0.010300</td>\n",
              "      <td>0.02891</td>\n",
              "      <td>0.05198</td>\n",
              "      <td>0.02454</td>\n",
              "      <td>0.01114</td>\n",
              "      <td>0.004239</td>\n",
              "      <td>25.450</td>\n",
              "      <td>26.40</td>\n",
              "      <td>166.10</td>\n",
              "      <td>2027.0</td>\n",
              "      <td>0.14100</td>\n",
              "      <td>0.21130</td>\n",
              "      <td>0.4107</td>\n",
              "      <td>0.2216</td>\n",
              "      <td>0.2060</td>\n",
              "      <td>0.07115</td>\n",
              "      <td>NaN</td>\n",
              "    </tr>\n",
              "    <tr>\n",
              "      <th>565</th>\n",
              "      <td>926682</td>\n",
              "      <td>M</td>\n",
              "      <td>20.13</td>\n",
              "      <td>28.25</td>\n",
              "      <td>131.20</td>\n",
              "      <td>1261.0</td>\n",
              "      <td>0.09780</td>\n",
              "      <td>0.10340</td>\n",
              "      <td>0.14400</td>\n",
              "      <td>0.09791</td>\n",
              "      <td>0.1752</td>\n",
              "      <td>0.05533</td>\n",
              "      <td>0.7655</td>\n",
              "      <td>2.4630</td>\n",
              "      <td>5.203</td>\n",
              "      <td>99.04</td>\n",
              "      <td>0.005769</td>\n",
              "      <td>0.02423</td>\n",
              "      <td>0.03950</td>\n",
              "      <td>0.01678</td>\n",
              "      <td>0.01898</td>\n",
              "      <td>0.002498</td>\n",
              "      <td>23.690</td>\n",
              "      <td>38.25</td>\n",
              "      <td>155.00</td>\n",
              "      <td>1731.0</td>\n",
              "      <td>0.11660</td>\n",
              "      <td>0.19220</td>\n",
              "      <td>0.3215</td>\n",
              "      <td>0.1628</td>\n",
              "      <td>0.2572</td>\n",
              "      <td>0.06637</td>\n",
              "      <td>NaN</td>\n",
              "    </tr>\n",
              "    <tr>\n",
              "      <th>566</th>\n",
              "      <td>926954</td>\n",
              "      <td>M</td>\n",
              "      <td>16.60</td>\n",
              "      <td>28.08</td>\n",
              "      <td>108.30</td>\n",
              "      <td>858.1</td>\n",
              "      <td>0.08455</td>\n",
              "      <td>0.10230</td>\n",
              "      <td>0.09251</td>\n",
              "      <td>0.05302</td>\n",
              "      <td>0.1590</td>\n",
              "      <td>0.05648</td>\n",
              "      <td>0.4564</td>\n",
              "      <td>1.0750</td>\n",
              "      <td>3.425</td>\n",
              "      <td>48.55</td>\n",
              "      <td>0.005903</td>\n",
              "      <td>0.03731</td>\n",
              "      <td>0.04730</td>\n",
              "      <td>0.01557</td>\n",
              "      <td>0.01318</td>\n",
              "      <td>0.003892</td>\n",
              "      <td>18.980</td>\n",
              "      <td>34.12</td>\n",
              "      <td>126.70</td>\n",
              "      <td>1124.0</td>\n",
              "      <td>0.11390</td>\n",
              "      <td>0.30940</td>\n",
              "      <td>0.3403</td>\n",
              "      <td>0.1418</td>\n",
              "      <td>0.2218</td>\n",
              "      <td>0.07820</td>\n",
              "      <td>NaN</td>\n",
              "    </tr>\n",
              "    <tr>\n",
              "      <th>567</th>\n",
              "      <td>927241</td>\n",
              "      <td>M</td>\n",
              "      <td>20.60</td>\n",
              "      <td>29.33</td>\n",
              "      <td>140.10</td>\n",
              "      <td>1265.0</td>\n",
              "      <td>0.11780</td>\n",
              "      <td>0.27700</td>\n",
              "      <td>0.35140</td>\n",
              "      <td>0.15200</td>\n",
              "      <td>0.2397</td>\n",
              "      <td>0.07016</td>\n",
              "      <td>0.7260</td>\n",
              "      <td>1.5950</td>\n",
              "      <td>5.772</td>\n",
              "      <td>86.22</td>\n",
              "      <td>0.006522</td>\n",
              "      <td>0.06158</td>\n",
              "      <td>0.07117</td>\n",
              "      <td>0.01664</td>\n",
              "      <td>0.02324</td>\n",
              "      <td>0.006185</td>\n",
              "      <td>25.740</td>\n",
              "      <td>39.42</td>\n",
              "      <td>184.60</td>\n",
              "      <td>1821.0</td>\n",
              "      <td>0.16500</td>\n",
              "      <td>0.86810</td>\n",
              "      <td>0.9387</td>\n",
              "      <td>0.2650</td>\n",
              "      <td>0.4087</td>\n",
              "      <td>0.12400</td>\n",
              "      <td>NaN</td>\n",
              "    </tr>\n",
              "    <tr>\n",
              "      <th>568</th>\n",
              "      <td>92751</td>\n",
              "      <td>B</td>\n",
              "      <td>7.76</td>\n",
              "      <td>24.54</td>\n",
              "      <td>47.92</td>\n",
              "      <td>181.0</td>\n",
              "      <td>0.05263</td>\n",
              "      <td>0.04362</td>\n",
              "      <td>0.00000</td>\n",
              "      <td>0.00000</td>\n",
              "      <td>0.1587</td>\n",
              "      <td>0.05884</td>\n",
              "      <td>0.3857</td>\n",
              "      <td>1.4280</td>\n",
              "      <td>2.548</td>\n",
              "      <td>19.15</td>\n",
              "      <td>0.007189</td>\n",
              "      <td>0.00466</td>\n",
              "      <td>0.00000</td>\n",
              "      <td>0.00000</td>\n",
              "      <td>0.02676</td>\n",
              "      <td>0.002783</td>\n",
              "      <td>9.456</td>\n",
              "      <td>30.37</td>\n",
              "      <td>59.16</td>\n",
              "      <td>268.6</td>\n",
              "      <td>0.08996</td>\n",
              "      <td>0.06444</td>\n",
              "      <td>0.0000</td>\n",
              "      <td>0.0000</td>\n",
              "      <td>0.2871</td>\n",
              "      <td>0.07039</td>\n",
              "      <td>NaN</td>\n",
              "    </tr>\n",
              "  </tbody>\n",
              "</table>\n",
              "<p>569 rows × 33 columns</p>\n",
              "</div>"
            ],
            "text/plain": [
              "           id diagnosis  ...  fractal_dimension_worst  Unnamed: 32\n",
              "0      842302         M  ...                  0.11890          NaN\n",
              "1      842517         M  ...                  0.08902          NaN\n",
              "2    84300903         M  ...                  0.08758          NaN\n",
              "3    84348301         M  ...                  0.17300          NaN\n",
              "4    84358402         M  ...                  0.07678          NaN\n",
              "..        ...       ...  ...                      ...          ...\n",
              "564    926424         M  ...                  0.07115          NaN\n",
              "565    926682         M  ...                  0.06637          NaN\n",
              "566    926954         M  ...                  0.07820          NaN\n",
              "567    927241         M  ...                  0.12400          NaN\n",
              "568     92751         B  ...                  0.07039          NaN\n",
              "\n",
              "[569 rows x 33 columns]"
            ]
          },
          "metadata": {},
          "execution_count": 4
        }
      ]
    },
    {
      "cell_type": "code",
      "metadata": {
        "colab": {
          "base_uri": "https://localhost:8080/"
        },
        "id": "ut0pMOm5f1kD",
        "outputId": "3dc0a8a9-1c52-471e-b304-001f444879cb"
      },
      "source": [
        "# counting values of variables in 'diagnosis'\n",
        "data['diagnosis'].value_counts()"
      ],
      "execution_count": 5,
      "outputs": [
        {
          "output_type": "execute_result",
          "data": {
            "text/plain": [
              "B    357\n",
              "M    212\n",
              "Name: diagnosis, dtype: int64"
            ]
          },
          "metadata": {},
          "execution_count": 5
        }
      ]
    },
    {
      "cell_type": "code",
      "metadata": {
        "colab": {
          "base_uri": "https://localhost:8080/",
          "height": 606
        },
        "id": "_TxtlnuSf1hJ",
        "outputId": "18738c04-20c4-45e4-d3f8-1e27aff8a34e"
      },
      "source": [
        "plt.figure(figsize=[17,9])\n",
        "sns.countplot(data['diagnosis'].value_counts())\n",
        "plt.show()"
      ],
      "execution_count": 6,
      "outputs": [
        {
          "output_type": "stream",
          "name": "stderr",
          "text": [
            "/usr/local/lib/python3.7/dist-packages/seaborn/_decorators.py:43: FutureWarning: Pass the following variable as a keyword arg: x. From version 0.12, the only valid positional argument will be `data`, and passing other arguments without an explicit keyword will result in an error or misinterpretation.\n",
            "  FutureWarning\n"
          ]
        },
        {
          "output_type": "display_data",
          "data": {
            "image/png": "[encoded data removed]",
            "text/plain": [
              "<Figure size 1224x648 with 1 Axes>"
            ]
          },
          "metadata": {
            "needs_background": "light"
          }
        }
      ]
    },
    {
      "cell_type": "code",
      "metadata": {
        "colab": {
          "base_uri": "https://localhost:8080/"
        },
        "id": "rqkcg4STf1eu",
        "outputId": "55e4ff18-5eb2-464c-8f94-5838ce2b3796"
      },
      "source": [
        "data.isnull().sum()"
      ],
      "execution_count": 7,
      "outputs": [
        {
          "output_type": "execute_result",
          "data": {
            "text/plain": [
              "id                           0\n",
              "diagnosis                    0\n",
              "radius_mean                  0\n",
              "texture_mean                 0\n",
              "perimeter_mean               0\n",
              "area_mean                    0\n",
              "smoothness_mean              0\n",
              "compactness_mean             0\n",
              "concavity_mean               0\n",
              "concave points_mean          0\n",
              "symmetry_mean                0\n",
              "fractal_dimension_mean       0\n",
              "radius_se                    0\n",
              "texture_se                   0\n",
              "perimeter_se                 0\n",
              "area_se                      0\n",
              "smoothness_se                0\n",
              "compactness_se               0\n",
              "concavity_se                 0\n",
              "concave points_se            0\n",
              "symmetry_se                  0\n",
              "fractal_dimension_se         0\n",
              "radius_worst                 0\n",
              "texture_worst                0\n",
              "perimeter_worst              0\n",
              "area_worst                   0\n",
              "smoothness_worst             0\n",
              "compactness_worst            0\n",
              "concavity_worst              0\n",
              "concave points_worst         0\n",
              "symmetry_worst               0\n",
              "fractal_dimension_worst      0\n",
              "Unnamed: 32                569\n",
              "dtype: int64"
            ]
          },
          "metadata": {},
          "execution_count": 7
        }
      ]
    },
    {
      "cell_type": "code",
      "metadata": {
        "colab": {
          "base_uri": "https://localhost:8080/",
          "height": 244
        },
        "id": "1uFF1ulEf1Yw",
        "outputId": "c5b7a469-23bd-4d75-ae13-ae9394d55af0"
      },
      "source": [
        "#droping feature / column\n",
        "data.drop(['Unnamed: 32','id'], axis=1,inplace=True)\n",
        "\n",
        "data.head()"
      ],
      "execution_count": 8,
      "outputs": [
        {
          "output_type": "execute_result",
          "data": {
            "text/html": [
              "<div>\n",
              "<style scoped>\n",
              "    .dataframe tbody tr th:only-of-type {\n",
              "        vertical-align: middle;\n",
              "    }\n",
              "\n",
              "    .dataframe tbody tr th {\n",
              "        vertical-align: top;\n",
              "    }\n",
              "\n",
              "    .dataframe thead th {\n",
              "        text-align: right;\n",
              "    }\n",
              "</style>\n",
              "<table border=\"1\" class=\"dataframe\">\n",
              "  <thead>\n",
              "    <tr style=\"text-align: right;\">\n",
              "      <th></th>\n",
              "      <th>diagnosis</th>\n",
              "      <th>radius_mean</th>\n",
              "      <th>texture_mean</th>\n",
              "      <th>perimeter_mean</th>\n",
              "      <th>area_mean</th>\n",
              "      <th>smoothness_mean</th>\n",
              "      <th>compactness_mean</th>\n",
              "      <th>concavity_mean</th>\n",
              "      <th>concave points_mean</th>\n",
              "      <th>symmetry_mean</th>\n",
              "      <th>fractal_dimension_mean</th>\n",
              "      <th>radius_se</th>\n",
              "      <th>texture_se</th>\n",
              "      <th>perimeter_se</th>\n",
              "      <th>area_se</th>\n",
              "      <th>smoothness_se</th>\n",
              "      <th>compactness_se</th>\n",
              "      <th>concavity_se</th>\n",
              "      <th>concave points_se</th>\n",
              "      <th>symmetry_se</th>\n",
              "      <th>fractal_dimension_se</th>\n",
              "      <th>radius_worst</th>\n",
              "      <th>texture_worst</th>\n",
              "      <th>perimeter_worst</th>\n",
              "      <th>area_worst</th>\n",
              "      <th>smoothness_worst</th>\n",
              "      <th>compactness_worst</th>\n",
              "      <th>concavity_worst</th>\n",
              "      <th>concave points_worst</th>\n",
              "      <th>symmetry_worst</th>\n",
              "      <th>fractal_dimension_worst</th>\n",
              "    </tr>\n",
              "  </thead>\n",
              "  <tbody>\n",
              "    <tr>\n",
              "      <th>0</th>\n",
              "      <td>M</td>\n",
              "      <td>17.99</td>\n",
              "      <td>10.38</td>\n",
              "      <td>122.80</td>\n",
              "      <td>1001.0</td>\n",
              "      <td>0.11840</td>\n",
              "      <td>0.27760</td>\n",
              "      <td>0.3001</td>\n",
              "      <td>0.14710</td>\n",
              "      <td>0.2419</td>\n",
              "      <td>0.07871</td>\n",
              "      <td>1.0950</td>\n",
              "      <td>0.9053</td>\n",
              "      <td>8.589</td>\n",
              "      <td>153.40</td>\n",
              "      <td>0.006399</td>\n",
              "      <td>0.04904</td>\n",
              "      <td>0.05373</td>\n",
              "      <td>0.01587</td>\n",
              "      <td>0.03003</td>\n",
              "      <td>0.006193</td>\n",
              "      <td>25.38</td>\n",
              "      <td>17.33</td>\n",
              "      <td>184.60</td>\n",
              "      <td>2019.0</td>\n",
              "      <td>0.1622</td>\n",
              "      <td>0.6656</td>\n",
              "      <td>0.7119</td>\n",
              "      <td>0.2654</td>\n",
              "      <td>0.4601</td>\n",
              "      <td>0.11890</td>\n",
              "    </tr>\n",
              "    <tr>\n",
              "      <th>1</th>\n",
              "      <td>M</td>\n",
              "      <td>20.57</td>\n",
              "      <td>17.77</td>\n",
              "      <td>132.90</td>\n",
              "      <td>1326.0</td>\n",
              "      <td>0.08474</td>\n",
              "      <td>0.07864</td>\n",
              "      <td>0.0869</td>\n",
              "      <td>0.07017</td>\n",
              "      <td>0.1812</td>\n",
              "      <td>0.05667</td>\n",
              "      <td>0.5435</td>\n",
              "      <td>0.7339</td>\n",
              "      <td>3.398</td>\n",
              "      <td>74.08</td>\n",
              "      <td>0.005225</td>\n",
              "      <td>0.01308</td>\n",
              "      <td>0.01860</td>\n",
              "      <td>0.01340</td>\n",
              "      <td>0.01389</td>\n",
              "      <td>0.003532</td>\n",
              "      <td>24.99</td>\n",
              "      <td>23.41</td>\n",
              "      <td>158.80</td>\n",
              "      <td>1956.0</td>\n",
              "      <td>0.1238</td>\n",
              "      <td>0.1866</td>\n",
              "      <td>0.2416</td>\n",
              "      <td>0.1860</td>\n",
              "      <td>0.2750</td>\n",
              "      <td>0.08902</td>\n",
              "    </tr>\n",
              "    <tr>\n",
              "      <th>2</th>\n",
              "      <td>M</td>\n",
              "      <td>19.69</td>\n",
              "      <td>21.25</td>\n",
              "      <td>130.00</td>\n",
              "      <td>1203.0</td>\n",
              "      <td>0.10960</td>\n",
              "      <td>0.15990</td>\n",
              "      <td>0.1974</td>\n",
              "      <td>0.12790</td>\n",
              "      <td>0.2069</td>\n",
              "      <td>0.05999</td>\n",
              "      <td>0.7456</td>\n",
              "      <td>0.7869</td>\n",
              "      <td>4.585</td>\n",
              "      <td>94.03</td>\n",
              "      <td>0.006150</td>\n",
              "      <td>0.04006</td>\n",
              "      <td>0.03832</td>\n",
              "      <td>0.02058</td>\n",
              "      <td>0.02250</td>\n",
              "      <td>0.004571</td>\n",
              "      <td>23.57</td>\n",
              "      <td>25.53</td>\n",
              "      <td>152.50</td>\n",
              "      <td>1709.0</td>\n",
              "      <td>0.1444</td>\n",
              "      <td>0.4245</td>\n",
              "      <td>0.4504</td>\n",
              "      <td>0.2430</td>\n",
              "      <td>0.3613</td>\n",
              "      <td>0.08758</td>\n",
              "    </tr>\n",
              "    <tr>\n",
              "      <th>3</th>\n",
              "      <td>M</td>\n",
              "      <td>11.42</td>\n",
              "      <td>20.38</td>\n",
              "      <td>77.58</td>\n",
              "      <td>386.1</td>\n",
              "      <td>0.14250</td>\n",
              "      <td>0.28390</td>\n",
              "      <td>0.2414</td>\n",
              "      <td>0.10520</td>\n",
              "      <td>0.2597</td>\n",
              "      <td>0.09744</td>\n",
              "      <td>0.4956</td>\n",
              "      <td>1.1560</td>\n",
              "      <td>3.445</td>\n",
              "      <td>27.23</td>\n",
              "      <td>0.009110</td>\n",
              "      <td>0.07458</td>\n",
              "      <td>0.05661</td>\n",
              "      <td>0.01867</td>\n",
              "      <td>0.05963</td>\n",
              "      <td>0.009208</td>\n",
              "      <td>14.91</td>\n",
              "      <td>26.50</td>\n",
              "      <td>98.87</td>\n",
              "      <td>567.7</td>\n",
              "      <td>0.2098</td>\n",
              "      <td>0.8663</td>\n",
              "      <td>0.6869</td>\n",
              "      <td>0.2575</td>\n",
              "      <td>0.6638</td>\n",
              "      <td>0.17300</td>\n",
              "    </tr>\n",
              "    <tr>\n",
              "      <th>4</th>\n",
              "      <td>M</td>\n",
              "      <td>20.29</td>\n",
              "      <td>14.34</td>\n",
              "      <td>135.10</td>\n",
              "      <td>1297.0</td>\n",
              "      <td>0.10030</td>\n",
              "      <td>0.13280</td>\n",
              "      <td>0.1980</td>\n",
              "      <td>0.10430</td>\n",
              "      <td>0.1809</td>\n",
              "      <td>0.05883</td>\n",
              "      <td>0.7572</td>\n",
              "      <td>0.7813</td>\n",
              "      <td>5.438</td>\n",
              "      <td>94.44</td>\n",
              "      <td>0.011490</td>\n",
              "      <td>0.02461</td>\n",
              "      <td>0.05688</td>\n",
              "      <td>0.01885</td>\n",
              "      <td>0.01756</td>\n",
              "      <td>0.005115</td>\n",
              "      <td>22.54</td>\n",
              "      <td>16.67</td>\n",
              "      <td>152.20</td>\n",
              "      <td>1575.0</td>\n",
              "      <td>0.1374</td>\n",
              "      <td>0.2050</td>\n",
              "      <td>0.4000</td>\n",
              "      <td>0.1625</td>\n",
              "      <td>0.2364</td>\n",
              "      <td>0.07678</td>\n",
              "    </tr>\n",
              "  </tbody>\n",
              "</table>\n",
              "</div>"
            ],
            "text/plain": [
              "  diagnosis  radius_mean  ...  symmetry_worst  fractal_dimension_worst\n",
              "0         M        17.99  ...          0.4601                  0.11890\n",
              "1         M        20.57  ...          0.2750                  0.08902\n",
              "2         M        19.69  ...          0.3613                  0.08758\n",
              "3         M        11.42  ...          0.6638                  0.17300\n",
              "4         M        20.29  ...          0.2364                  0.07678\n",
              "\n",
              "[5 rows x 31 columns]"
            ]
          },
          "metadata": {},
          "execution_count": 8
        }
      ]
    },
    {
      "cell_type": "code",
      "metadata": {
        "colab": {
          "base_uri": "https://localhost:8080/",
          "height": 280
        },
        "id": "74hZAQqyUpfw",
        "outputId": "a8a59188-2e30-4ac2-f624-d8007313ab3f"
      },
      "source": [
        "M = data[data.diagnosis == \"M\"]\n",
        "B = data[data.diagnosis == \"B\"]\n",
        "# scatter plot\n",
        "plt.scatter(M.radius_mean, M.texture_mean, color=\"red\", label=\"Malignant\", alpha= 0.3)\n",
        "plt.scatter(B.radius_mean, B.texture_mean, color=\"green\", label=\"Benign\", alpha= 0.3)\n",
        "plt.xlabel(\"radius_mean\")\n",
        "plt.ylabel(\"texture_mean\")\n",
        "plt.legend()\n",
        "plt.show()"
      ],
      "execution_count": 9,
      "outputs": [
        {
          "output_type": "display_data",
          "data": {
            "image/png": "[encoded data removed]",
            "text/plain": [
              "<Figure size 432x288 with 1 Axes>"
            ]
          },
          "metadata": {
            "needs_background": "light"
          }
        }
      ]
    },
    {
      "cell_type": "code",
      "metadata": {
        "colab": {
          "base_uri": "https://localhost:8080/",
          "height": 350
        },
        "id": "oBloFNHkVHWf",
        "outputId": "02da9780-e6f9-4332-ae3a-dff95d1fed6a"
      },
      "source": [
        "# Box plot\n",
        "fig, axes =  plt.subplots(1, 2, figsize=(15,5))\n",
        "sns.boxplot(ax = axes[0], x = data.diagnosis, y = data['area_mean'] , palette = \"Accent_r\")\n",
        "axes[0].set_title('Size Difference')\n",
        "\n",
        "sns.boxplot(ax = axes[1], x = data.diagnosis, y = data['perimeter_mean'] ,palette=\"PRGn\")\n",
        "axes[1].set_title('Size Difference')\n",
        "\n",
        "plt.show()"
      ],
      "execution_count": 10,
      "outputs": [
        {
          "output_type": "display_data",
          "data": {
            "image/png": "[encoded data removed]",
            "text/plain": [
              "<Figure size 1080x360 with 2 Axes>"
            ]
          },
          "metadata": {
            "needs_background": "light"
          }
        }
      ]
    },
    {
      "cell_type": "code",
      "metadata": {
        "id": "OZlD_prduJ9-"
      },
      "source": [
        "# independent variables\n",
        "x = data.drop('diagnosis',axis=1)\n",
        "#dependent variables // labels\n",
        "y = data.diagnosis"
      ],
      "execution_count": 11,
      "outputs": []
    },
    {
      "cell_type": "code",
      "metadata": {
        "id": "Hqd3aggeHtKo"
      },
      "source": [
        "le = LabelEncoder()\n",
        "y = le.fit_transform(y)"
      ],
      "execution_count": 12,
      "outputs": []
    },
    {
      "cell_type": "code",
      "metadata": {
        "id": "Qw2QsaSKxXLJ"
      },
      "source": [
        "train_data,  test_data, train_label, test_label = train_test_split(x, y, test_size=0.3, random_state=40)"
      ],
      "execution_count": 13,
      "outputs": []
    },
    {
      "cell_type": "code",
      "metadata": {
        "colab": {
          "base_uri": "https://localhost:8080/",
          "height": 599
        },
        "id": "dziJUG2JWUrL",
        "outputId": "ef786a1d-916b-4539-f915-8bb68e077141"
      },
      "source": [
        "fig =  plt.subplots(1, 1, figsize=(10,8))\n",
        "grp = sns.heatmap(train_data.corr(),cmap=\"Spectral_r\",annot = False)"
      ],
      "execution_count": 14,
      "outputs": [
        {
          "output_type": "display_data",
          "data": {
            "image/png": "[encoded data removed]",
            "text/plain": [
              "<Figure size 720x576 with 2 Axes>"
            ]
          },
          "metadata": {
            "needs_background": "light"
          }
        }
      ]
    },
    {
      "cell_type": "code",
      "metadata": {
        "id": "vSOK0K9oIQ4V"
      },
      "source": [
        "# scaling the data\n",
        "sc = StandardScaler()\n",
        "train_data = sc.fit_transform(train_data)\n",
        "test_data = sc.transform(test_data)"
      ],
      "execution_count": 15,
      "outputs": []
    },
    {
      "cell_type": "code",
      "metadata": {
        "colab": {
          "base_uri": "https://localhost:8080/"
        },
        "id": "qmp_c3C5I8Mk",
        "outputId": "3f45977b-b752-40e9-88b6-bf5d3a264fd7"
      },
      "source": [
        "#creating Kera Sequential model\n",
        "\n",
        "classifier = Sequential()\n",
        "\n",
        "#first hidden layer\n",
        "classifier.add(Dense(units=9,kernel_initializer='he_uniform',activation='relu',input_dim=30))\n",
        "#second hidden layer\n",
        "classifier.add(Dense(units=9,kernel_initializer='he_uniform',activation='relu'))\n",
        "# last layer or output layer\n",
        "classifier.add(Dense(units=1,kernel_initializer='glorot_uniform',activation='sigmoid'))\n",
        "\n",
        "#taking summary of layers\n",
        "classifier.summary()"
      ],
      "execution_count": 16,
      "outputs": [
        {
          "output_type": "stream",
          "name": "stdout",
          "text": [
            "Model: \"sequential\"\n",
            "_________________________________________________________________\n",
            " Layer (type)                Output Shape              Param #   \n",
            "=================================================================\n",
            " dense (Dense)               (None, 9)                 279       \n",
            "                                                                 \n",
            " dense_1 (Dense)             (None, 9)                 90        \n",
            "                                                                 \n",
            " dense_2 (Dense)             (None, 1)                 10        \n",
            "                                                                 \n",
            "=================================================================\n",
            "Total params: 379\n",
            "Trainable params: 379\n",
            "Non-trainable params: 0\n",
            "_________________________________________________________________\n"
          ]
        }
      ]
    },
    {
      "cell_type": "code",
      "metadata": {
        "id": "qseIZnNZKD-2"
      },
      "source": [
        "#compiling the ANN\n",
        "classifier.compile(optimizer='adam',loss='binary_crossentropy',metrics=['accuracy'])"
      ],
      "execution_count": 17,
      "outputs": []
    },
    {
      "cell_type": "code",
      "metadata": {
        "colab": {
          "base_uri": "https://localhost:8080/"
        },
        "id": "YjkgpvVQKNAa",
        "outputId": "b47a1c35-3362-4c9f-f43b-c6fcfc64b130"
      },
      "source": [
        "#fitting the ANN to the training set\n",
        "model = classifier.fit(train_data, train_label, batch_size = 100, epochs = 50)"
      ],
      "execution_count": 18,
      "outputs": [
        {
          "output_type": "stream",
          "name": "stdout",
          "text": [
            "Epoch 1/50\n",
            "4/4 [==============================] - 1s 4ms/step - loss: 1.1186 - accuracy: 0.4874\n",
            "Epoch 2/50\n",
            "4/4 [==============================] - 0s 4ms/step - loss: 1.0526 - accuracy: 0.5101\n",
            "Epoch 3/50\n",
            "4/4 [==============================] - 0s 4ms/step - loss: 0.9958 - accuracy: 0.5327\n",
            "Epoch 4/50\n",
            "4/4 [==============================] - 0s 4ms/step - loss: 0.9391 - accuracy: 0.5653\n",
            "Epoch 5/50\n",
            "4/4 [==============================] - 0s 4ms/step - loss: 0.8893 - accuracy: 0.5779\n",
            "Epoch 6/50\n",
            "4/4 [==============================] - 0s 3ms/step - loss: 0.8449 - accuracy: 0.6005\n",
            "Epoch 7/50\n",
            "4/4 [==============================] - 0s 4ms/step - loss: 0.8038 - accuracy: 0.6357\n",
            "Epoch 8/50\n",
            "4/4 [==============================] - 0s 4ms/step - loss: 0.7647 - accuracy: 0.6307\n",
            "Epoch 9/50\n",
            "4/4 [==============================] - 0s 4ms/step - loss: 0.7269 - accuracy: 0.6508\n",
            "Epoch 10/50\n",
            "4/4 [==============================] - 0s 6ms/step - loss: 0.6946 - accuracy: 0.6633\n",
            "Epoch 11/50\n",
            "4/4 [==============================] - 0s 4ms/step - loss: 0.6620 - accuracy: 0.6859\n",
            "Epoch 12/50\n",
            "4/4 [==============================] - 0s 3ms/step - loss: 0.6316 - accuracy: 0.6985\n",
            "Epoch 13/50\n",
            "4/4 [==============================] - 0s 3ms/step - loss: 0.6021 - accuracy: 0.7111\n",
            "Epoch 14/50\n",
            "4/4 [==============================] - 0s 4ms/step - loss: 0.5731 - accuracy: 0.7261\n",
            "Epoch 15/50\n",
            "4/4 [==============================] - 0s 4ms/step - loss: 0.5442 - accuracy: 0.7412\n",
            "Epoch 16/50\n",
            "4/4 [==============================] - 0s 5ms/step - loss: 0.5173 - accuracy: 0.7588\n",
            "Epoch 17/50\n",
            "4/4 [==============================] - 0s 4ms/step - loss: 0.4899 - accuracy: 0.7739\n",
            "Epoch 18/50\n",
            "4/4 [==============================] - 0s 6ms/step - loss: 0.4620 - accuracy: 0.7915\n",
            "Epoch 19/50\n",
            "4/4 [==============================] - 0s 4ms/step - loss: 0.4390 - accuracy: 0.8116\n",
            "Epoch 20/50\n",
            "4/4 [==============================] - 0s 5ms/step - loss: 0.4155 - accuracy: 0.8291\n",
            "Epoch 21/50\n",
            "4/4 [==============================] - 0s 4ms/step - loss: 0.3930 - accuracy: 0.8467\n",
            "Epoch 22/50\n",
            "4/4 [==============================] - 0s 4ms/step - loss: 0.3719 - accuracy: 0.8593\n",
            "Epoch 23/50\n",
            "4/4 [==============================] - 0s 4ms/step - loss: 0.3526 - accuracy: 0.8719\n",
            "Epoch 24/50\n",
            "4/4 [==============================] - 0s 4ms/step - loss: 0.3341 - accuracy: 0.8894\n",
            "Epoch 25/50\n",
            "4/4 [==============================] - 0s 5ms/step - loss: 0.3171 - accuracy: 0.9020\n",
            "Epoch 26/50\n",
            "4/4 [==============================] - 0s 3ms/step - loss: 0.3018 - accuracy: 0.9221\n",
            "Epoch 27/50\n",
            "4/4 [==============================] - 0s 3ms/step - loss: 0.2877 - accuracy: 0.9271\n",
            "Epoch 28/50\n",
            "4/4 [==============================] - 0s 4ms/step - loss: 0.2746 - accuracy: 0.9322\n",
            "Epoch 29/50\n",
            "4/4 [==============================] - 0s 4ms/step - loss: 0.2622 - accuracy: 0.9347\n",
            "Epoch 30/50\n",
            "4/4 [==============================] - 0s 4ms/step - loss: 0.2504 - accuracy: 0.9397\n",
            "Epoch 31/50\n",
            "4/4 [==============================] - 0s 8ms/step - loss: 0.2397 - accuracy: 0.9397\n",
            "Epoch 32/50\n",
            "4/4 [==============================] - 0s 4ms/step - loss: 0.2299 - accuracy: 0.9397\n",
            "Epoch 33/50\n",
            "4/4 [==============================] - 0s 4ms/step - loss: 0.2208 - accuracy: 0.9472\n",
            "Epoch 34/50\n",
            "4/4 [==============================] - 0s 4ms/step - loss: 0.2125 - accuracy: 0.9472\n",
            "Epoch 35/50\n",
            "4/4 [==============================] - 0s 4ms/step - loss: 0.2047 - accuracy: 0.9523\n",
            "Epoch 36/50\n",
            "4/4 [==============================] - 0s 3ms/step - loss: 0.1974 - accuracy: 0.9573\n",
            "Epoch 37/50\n",
            "4/4 [==============================] - 0s 3ms/step - loss: 0.1907 - accuracy: 0.9623\n",
            "Epoch 38/50\n",
            "4/4 [==============================] - 0s 5ms/step - loss: 0.1841 - accuracy: 0.9648\n",
            "Epoch 39/50\n",
            "4/4 [==============================] - 0s 5ms/step - loss: 0.1781 - accuracy: 0.9648\n",
            "Epoch 40/50\n",
            "4/4 [==============================] - 0s 4ms/step - loss: 0.1726 - accuracy: 0.9648\n",
            "Epoch 41/50\n",
            "4/4 [==============================] - 0s 4ms/step - loss: 0.1673 - accuracy: 0.9648\n",
            "Epoch 42/50\n",
            "4/4 [==============================] - 0s 5ms/step - loss: 0.1621 - accuracy: 0.9648\n",
            "Epoch 43/50\n",
            "4/4 [==============================] - 0s 4ms/step - loss: 0.1574 - accuracy: 0.9648\n",
            "Epoch 44/50\n",
            "4/4 [==============================] - 0s 4ms/step - loss: 0.1530 - accuracy: 0.9648\n",
            "Epoch 45/50\n",
            "4/4 [==============================] - 0s 3ms/step - loss: 0.1490 - accuracy: 0.9648\n",
            "Epoch 46/50\n",
            "4/4 [==============================] - 0s 3ms/step - loss: 0.1449 - accuracy: 0.9673\n",
            "Epoch 47/50\n",
            "4/4 [==============================] - 0s 4ms/step - loss: 0.1414 - accuracy: 0.9673\n",
            "Epoch 48/50\n",
            "4/4 [==============================] - 0s 3ms/step - loss: 0.1380 - accuracy: 0.9673\n",
            "Epoch 49/50\n",
            "4/4 [==============================] - 0s 4ms/step - loss: 0.1347 - accuracy: 0.9673\n",
            "Epoch 50/50\n",
            "4/4 [==============================] - 0s 4ms/step - loss: 0.1316 - accuracy: 0.9673\n"
          ]
        }
      ]
    },
    {
      "cell_type": "code",
      "metadata": {
        "colab": {
          "base_uri": "https://localhost:8080/"
        },
        "id": "GaKisa0IQf2i",
        "outputId": "4f675d0f-238a-4ef3-d843-8c6c89ecf7cb"
      },
      "source": [
        "y_pred = classifier.predict(test_data)\n",
        "y_pred = (y_pred>0.5)\n",
        "\n",
        "cm = confusion_matrix(test_label, y_pred)\n",
        "score = accuracy_score(test_label,y_pred)\n",
        "print(cm)\n",
        "print('score ater 50 epochs: ', score*100)"
      ],
      "execution_count": 19,
      "outputs": [
        {
          "output_type": "stream",
          "name": "stdout",
          "text": [
            "[[111   4]\n",
            " [  1  55]]\n",
            "score ater 50 epochs:  97.07602339181285\n"
          ]
        }
      ]
    },
    {
      "cell_type": "code",
      "metadata": {
        "colab": {
          "base_uri": "https://localhost:8080/"
        },
        "id": "KdqSfQ74QMtL",
        "outputId": "2a33680a-d490-4262-ede6-16c5ba1d56dd"
      },
      "source": [
        "#fitting the ANN to the training set\n",
        "model = classifier.fit(train_data, train_label, batch_size = 100, epochs = 50)"
      ],
      "execution_count": 20,
      "outputs": [
        {
          "output_type": "stream",
          "name": "stdout",
          "text": [
            "Epoch 1/50\n",
            "4/4 [==============================] - 0s 3ms/step - loss: 0.1286 - accuracy: 0.9673\n",
            "Epoch 2/50\n",
            "4/4 [==============================] - 0s 4ms/step - loss: 0.1259 - accuracy: 0.9698\n",
            "Epoch 3/50\n",
            "4/4 [==============================] - 0s 5ms/step - loss: 0.1233 - accuracy: 0.9698\n",
            "Epoch 4/50\n",
            "4/4 [==============================] - 0s 5ms/step - loss: 0.1208 - accuracy: 0.9724\n",
            "Epoch 5/50\n",
            "4/4 [==============================] - 0s 4ms/step - loss: 0.1184 - accuracy: 0.9724\n",
            "Epoch 6/50\n",
            "4/4 [==============================] - 0s 4ms/step - loss: 0.1161 - accuracy: 0.9724\n",
            "Epoch 7/50\n",
            "4/4 [==============================] - 0s 4ms/step - loss: 0.1140 - accuracy: 0.9724\n",
            "Epoch 8/50\n",
            "4/4 [==============================] - 0s 4ms/step - loss: 0.1119 - accuracy: 0.9724\n",
            "Epoch 9/50\n",
            "4/4 [==============================] - 0s 5ms/step - loss: 0.1101 - accuracy: 0.9724\n",
            "Epoch 10/50\n",
            "4/4 [==============================] - 0s 4ms/step - loss: 0.1081 - accuracy: 0.9724\n",
            "Epoch 11/50\n",
            "4/4 [==============================] - 0s 5ms/step - loss: 0.1064 - accuracy: 0.9698\n",
            "Epoch 12/50\n",
            "4/4 [==============================] - 0s 5ms/step - loss: 0.1047 - accuracy: 0.9698\n",
            "Epoch 13/50\n",
            "4/4 [==============================] - 0s 5ms/step - loss: 0.1030 - accuracy: 0.9698\n",
            "Epoch 14/50\n",
            "4/4 [==============================] - 0s 3ms/step - loss: 0.1014 - accuracy: 0.9724\n",
            "Epoch 15/50\n",
            "4/4 [==============================] - 0s 4ms/step - loss: 0.1000 - accuracy: 0.9749\n",
            "Epoch 16/50\n",
            "4/4 [==============================] - 0s 3ms/step - loss: 0.0985 - accuracy: 0.9749\n",
            "Epoch 17/50\n",
            "4/4 [==============================] - 0s 4ms/step - loss: 0.0972 - accuracy: 0.9749\n",
            "Epoch 18/50\n",
            "4/4 [==============================] - 0s 4ms/step - loss: 0.0960 - accuracy: 0.9749\n",
            "Epoch 19/50\n",
            "4/4 [==============================] - 0s 4ms/step - loss: 0.0947 - accuracy: 0.9749\n",
            "Epoch 20/50\n",
            "4/4 [==============================] - 0s 5ms/step - loss: 0.0935 - accuracy: 0.9749\n",
            "Epoch 21/50\n",
            "4/4 [==============================] - 0s 7ms/step - loss: 0.0924 - accuracy: 0.9749\n",
            "Epoch 22/50\n",
            "4/4 [==============================] - 0s 3ms/step - loss: 0.0913 - accuracy: 0.9749\n",
            "Epoch 23/50\n",
            "4/4 [==============================] - 0s 5ms/step - loss: 0.0903 - accuracy: 0.9749\n",
            "Epoch 24/50\n",
            "4/4 [==============================] - 0s 3ms/step - loss: 0.0893 - accuracy: 0.9749\n",
            "Epoch 25/50\n",
            "4/4 [==============================] - 0s 4ms/step - loss: 0.0883 - accuracy: 0.9749\n",
            "Epoch 26/50\n",
            "4/4 [==============================] - 0s 3ms/step - loss: 0.0874 - accuracy: 0.9774\n",
            "Epoch 27/50\n",
            "4/4 [==============================] - 0s 4ms/step - loss: 0.0866 - accuracy: 0.9774\n",
            "Epoch 28/50\n",
            "4/4 [==============================] - 0s 4ms/step - loss: 0.0857 - accuracy: 0.9774\n",
            "Epoch 29/50\n",
            "4/4 [==============================] - 0s 3ms/step - loss: 0.0850 - accuracy: 0.9774\n",
            "Epoch 30/50\n",
            "4/4 [==============================] - 0s 4ms/step - loss: 0.0841 - accuracy: 0.9774\n",
            "Epoch 31/50\n",
            "4/4 [==============================] - 0s 3ms/step - loss: 0.0833 - accuracy: 0.9774\n",
            "Epoch 32/50\n",
            "4/4 [==============================] - 0s 4ms/step - loss: 0.0825 - accuracy: 0.9774\n",
            "Epoch 33/50\n",
            "4/4 [==============================] - 0s 4ms/step - loss: 0.0818 - accuracy: 0.9774\n",
            "Epoch 34/50\n",
            "4/4 [==============================] - 0s 3ms/step - loss: 0.0810 - accuracy: 0.9774\n",
            "Epoch 35/50\n",
            "4/4 [==============================] - 0s 3ms/step - loss: 0.0802 - accuracy: 0.9774\n",
            "Epoch 36/50\n",
            "4/4 [==============================] - 0s 4ms/step - loss: 0.0794 - accuracy: 0.9774\n",
            "Epoch 37/50\n",
            "4/4 [==============================] - 0s 3ms/step - loss: 0.0786 - accuracy: 0.9774\n",
            "Epoch 38/50\n",
            "4/4 [==============================] - 0s 4ms/step - loss: 0.0778 - accuracy: 0.9774\n",
            "Epoch 39/50\n",
            "4/4 [==============================] - 0s 4ms/step - loss: 0.0771 - accuracy: 0.9774\n",
            "Epoch 40/50\n",
            "4/4 [==============================] - 0s 6ms/step - loss: 0.0763 - accuracy: 0.9774\n",
            "Epoch 41/50\n",
            "4/4 [==============================] - 0s 5ms/step - loss: 0.0756 - accuracy: 0.9774\n",
            "Epoch 42/50\n",
            "4/4 [==============================] - 0s 4ms/step - loss: 0.0749 - accuracy: 0.9774\n",
            "Epoch 43/50\n",
            "4/4 [==============================] - 0s 4ms/step - loss: 0.0742 - accuracy: 0.9774\n",
            "Epoch 44/50\n",
            "4/4 [==============================] - 0s 4ms/step - loss: 0.0735 - accuracy: 0.9774\n",
            "Epoch 45/50\n",
            "4/4 [==============================] - 0s 4ms/step - loss: 0.0729 - accuracy: 0.9774\n",
            "Epoch 46/50\n",
            "4/4 [==============================] - 0s 4ms/step - loss: 0.0722 - accuracy: 0.9774\n",
            "Epoch 47/50\n",
            "4/4 [==============================] - 0s 4ms/step - loss: 0.0716 - accuracy: 0.9774\n",
            "Epoch 48/50\n",
            "4/4 [==============================] - 0s 3ms/step - loss: 0.0710 - accuracy: 0.9774\n",
            "Epoch 49/50\n",
            "4/4 [==============================] - 0s 4ms/step - loss: 0.0704 - accuracy: 0.9774\n",
            "Epoch 50/50\n",
            "4/4 [==============================] - 0s 6ms/step - loss: 0.0696 - accuracy: 0.9774\n"
          ]
        }
      ]
    },
    {
      "cell_type": "code",
      "metadata": {
        "colab": {
          "base_uri": "https://localhost:8080/"
        },
        "id": "ZE8jnj24Qrfz",
        "outputId": "72654774-c1ef-4ed2-9833-aced38397b21"
      },
      "source": [
        "y_pred = classifier.predict(test_data)\n",
        "y_pred = (y_pred>0.5)\n",
        "\n",
        "cm = confusion_matrix(test_label, y_pred)\n",
        "score = accuracy_score(test_label,y_pred)\n",
        "print(cm)\n",
        "print('score ater 100 epochs: ', score*100)"
      ],
      "execution_count": 21,
      "outputs": [
        {
          "output_type": "stream",
          "name": "stdout",
          "text": [
            "[[114   1]\n",
            " [  1  55]]\n",
            "score ater 100 epochs:  98.83040935672514\n"
          ]
        }
      ]
    },
    {
      "cell_type": "code",
      "metadata": {
        "colab": {
          "base_uri": "https://localhost:8080/"
        },
        "id": "JUJAqA7jQMjw",
        "outputId": "56bd8636-4e3e-4982-a415-267f6e5bcefd"
      },
      "source": [
        "#fitting the ANN to the training set\n",
        "model = classifier.fit(train_data, train_label, batch_size = 100, epochs = 50)"
      ],
      "execution_count": 22,
      "outputs": [
        {
          "output_type": "stream",
          "name": "stdout",
          "text": [
            "Epoch 1/50\n",
            "4/4 [==============================] - 0s 3ms/step - loss: 0.0690 - accuracy: 0.9774\n",
            "Epoch 2/50\n",
            "4/4 [==============================] - 0s 3ms/step - loss: 0.0683 - accuracy: 0.9774\n",
            "Epoch 3/50\n",
            "4/4 [==============================] - 0s 4ms/step - loss: 0.0676 - accuracy: 0.9774\n",
            "Epoch 4/50\n",
            "4/4 [==============================] - 0s 3ms/step - loss: 0.0670 - accuracy: 0.9774\n",
            "Epoch 5/50\n",
            "4/4 [==============================] - 0s 3ms/step - loss: 0.0663 - accuracy: 0.9774\n",
            "Epoch 6/50\n",
            "4/4 [==============================] - 0s 3ms/step - loss: 0.0657 - accuracy: 0.9774\n",
            "Epoch 7/50\n",
            "4/4 [==============================] - 0s 3ms/step - loss: 0.0651 - accuracy: 0.9774\n",
            "Epoch 8/50\n",
            "4/4 [==============================] - 0s 3ms/step - loss: 0.0645 - accuracy: 0.9774\n",
            "Epoch 9/50\n",
            "4/4 [==============================] - 0s 3ms/step - loss: 0.0639 - accuracy: 0.9774\n",
            "Epoch 10/50\n",
            "4/4 [==============================] - 0s 4ms/step - loss: 0.0632 - accuracy: 0.9774\n",
            "Epoch 11/50\n",
            "4/4 [==============================] - 0s 4ms/step - loss: 0.0626 - accuracy: 0.9774\n",
            "Epoch 12/50\n",
            "4/4 [==============================] - 0s 4ms/step - loss: 0.0619 - accuracy: 0.9774\n",
            "Epoch 13/50\n",
            "4/4 [==============================] - 0s 5ms/step - loss: 0.0614 - accuracy: 0.9774\n",
            "Epoch 14/50\n",
            "4/4 [==============================] - 0s 4ms/step - loss: 0.0608 - accuracy: 0.9774\n",
            "Epoch 15/50\n",
            "4/4 [==============================] - 0s 5ms/step - loss: 0.0603 - accuracy: 0.9799\n",
            "Epoch 16/50\n",
            "4/4 [==============================] - 0s 6ms/step - loss: 0.0597 - accuracy: 0.9799\n",
            "Epoch 17/50\n",
            "4/4 [==============================] - 0s 4ms/step - loss: 0.0591 - accuracy: 0.9799\n",
            "Epoch 18/50\n",
            "4/4 [==============================] - 0s 4ms/step - loss: 0.0586 - accuracy: 0.9799\n",
            "Epoch 19/50\n",
            "4/4 [==============================] - 0s 3ms/step - loss: 0.0581 - accuracy: 0.9799\n",
            "Epoch 20/50\n",
            "4/4 [==============================] - 0s 4ms/step - loss: 0.0575 - accuracy: 0.9799\n",
            "Epoch 21/50\n",
            "4/4 [==============================] - 0s 4ms/step - loss: 0.0571 - accuracy: 0.9799\n",
            "Epoch 22/50\n",
            "4/4 [==============================] - 0s 3ms/step - loss: 0.0567 - accuracy: 0.9799\n",
            "Epoch 23/50\n",
            "4/4 [==============================] - 0s 5ms/step - loss: 0.0561 - accuracy: 0.9799\n",
            "Epoch 24/50\n",
            "4/4 [==============================] - 0s 4ms/step - loss: 0.0556 - accuracy: 0.9799\n",
            "Epoch 25/50\n",
            "4/4 [==============================] - 0s 4ms/step - loss: 0.0552 - accuracy: 0.9799\n",
            "Epoch 26/50\n",
            "4/4 [==============================] - 0s 5ms/step - loss: 0.0548 - accuracy: 0.9799\n",
            "Epoch 27/50\n",
            "4/4 [==============================] - 0s 3ms/step - loss: 0.0544 - accuracy: 0.9799\n",
            "Epoch 28/50\n",
            "4/4 [==============================] - 0s 4ms/step - loss: 0.0540 - accuracy: 0.9799\n",
            "Epoch 29/50\n",
            "4/4 [==============================] - 0s 4ms/step - loss: 0.0535 - accuracy: 0.9799\n",
            "Epoch 30/50\n",
            "4/4 [==============================] - 0s 4ms/step - loss: 0.0531 - accuracy: 0.9799\n",
            "Epoch 31/50\n",
            "4/4 [==============================] - 0s 5ms/step - loss: 0.0527 - accuracy: 0.9799\n",
            "Epoch 32/50\n",
            "4/4 [==============================] - 0s 5ms/step - loss: 0.0523 - accuracy: 0.9799\n",
            "Epoch 33/50\n",
            "4/4 [==============================] - 0s 4ms/step - loss: 0.0520 - accuracy: 0.9799\n",
            "Epoch 34/50\n",
            "4/4 [==============================] - 0s 5ms/step - loss: 0.0515 - accuracy: 0.9799\n",
            "Epoch 35/50\n",
            "4/4 [==============================] - 0s 5ms/step - loss: 0.0512 - accuracy: 0.9799\n",
            "Epoch 36/50\n",
            "4/4 [==============================] - 0s 4ms/step - loss: 0.0508 - accuracy: 0.9799\n",
            "Epoch 37/50\n",
            "4/4 [==============================] - 0s 4ms/step - loss: 0.0505 - accuracy: 0.9799\n",
            "Epoch 38/50\n",
            "4/4 [==============================] - 0s 4ms/step - loss: 0.0501 - accuracy: 0.9799\n",
            "Epoch 39/50\n",
            "4/4 [==============================] - 0s 3ms/step - loss: 0.0497 - accuracy: 0.9799\n",
            "Epoch 40/50\n",
            "4/4 [==============================] - 0s 5ms/step - loss: 0.0494 - accuracy: 0.9799\n",
            "Epoch 41/50\n",
            "4/4 [==============================] - 0s 3ms/step - loss: 0.0489 - accuracy: 0.9799\n",
            "Epoch 42/50\n",
            "4/4 [==============================] - 0s 4ms/step - loss: 0.0486 - accuracy: 0.9799\n",
            "Epoch 43/50\n",
            "4/4 [==============================] - 0s 3ms/step - loss: 0.0483 - accuracy: 0.9799\n",
            "Epoch 44/50\n",
            "4/4 [==============================] - 0s 3ms/step - loss: 0.0479 - accuracy: 0.9799\n",
            "Epoch 45/50\n",
            "4/4 [==============================] - 0s 4ms/step - loss: 0.0475 - accuracy: 0.9799\n",
            "Epoch 46/50\n",
            "4/4 [==============================] - 0s 5ms/step - loss: 0.0472 - accuracy: 0.9799\n",
            "Epoch 47/50\n",
            "4/4 [==============================] - 0s 4ms/step - loss: 0.0469 - accuracy: 0.9799\n",
            "Epoch 48/50\n",
            "4/4 [==============================] - 0s 4ms/step - loss: 0.0465 - accuracy: 0.9799\n",
            "Epoch 49/50\n",
            "4/4 [==============================] - 0s 4ms/step - loss: 0.0462 - accuracy: 0.9799\n",
            "Epoch 50/50\n",
            "4/4 [==============================] - 0s 5ms/step - loss: 0.0458 - accuracy: 0.9824\n"
          ]
        }
      ]
    },
    {
      "cell_type": "code",
      "metadata": {
        "colab": {
          "base_uri": "https://localhost:8080/"
        },
        "id": "Pk52L-2pQsSh",
        "outputId": "9d1cadff-9fc8-411b-c711-ab2d20d8baba"
      },
      "source": [
        "y_pred = classifier.predict(test_data)\n",
        "y_pred = (y_pred>0.5)\n",
        "\n",
        "cm = confusion_matrix(test_label, y_pred)\n",
        "score = accuracy_score(test_label,y_pred)\n",
        "print(cm)\n",
        "print('score ater 150 epochs: ', score*100)"
      ],
      "execution_count": 23,
      "outputs": [
        {
          "output_type": "stream",
          "name": "stdout",
          "text": [
            "[[114   1]\n",
            " [  1  55]]\n",
            "score ater 150 epochs:  98.83040935672514\n"
          ]
        }
      ]
    },
    {
      "cell_type": "code",
      "metadata": {
        "id": "tJlUdzH3KV76"
      },
      "source": [
        "#now testing for Test data\n",
        "y_pred = classifier.predict(test_data)"
      ],
      "execution_count": 24,
      "outputs": []
    },
    {
      "cell_type": "code",
      "metadata": {
        "colab": {
          "base_uri": "https://localhost:8080/"
        },
        "id": "ffcvIrM5KqFq",
        "outputId": "25a0cf8d-1b4e-4b69-eeb3-5cb46c4c164b"
      },
      "source": [
        "#converting values\n",
        "y_pred = (y_pred>0.5)\n",
        "print(y_pred)"
      ],
      "execution_count": 25,
      "outputs": [
        {
          "output_type": "stream",
          "name": "stdout",
          "text": [
            "[[False]\n",
            " [ True]\n",
            " [False]\n",
            " [False]\n",
            " [ True]\n",
            " [False]\n",
            " [False]\n",
            " [False]\n",
            " [False]\n",
            " [False]\n",
            " [ True]\n",
            " [False]\n",
            " [False]\n",
            " [False]\n",
            " [ True]\n",
            " [False]\n",
            " [False]\n",
            " [False]\n",
            " [False]\n",
            " [False]\n",
            " [False]\n",
            " [ True]\n",
            " [False]\n",
            " [ True]\n",
            " [ True]\n",
            " [ True]\n",
            " [ True]\n",
            " [ True]\n",
            " [False]\n",
            " [False]\n",
            " [False]\n",
            " [ True]\n",
            " [ True]\n",
            " [False]\n",
            " [False]\n",
            " [False]\n",
            " [False]\n",
            " [ True]\n",
            " [False]\n",
            " [False]\n",
            " [ True]\n",
            " [False]\n",
            " [False]\n",
            " [False]\n",
            " [ True]\n",
            " [ True]\n",
            " [False]\n",
            " [ True]\n",
            " [ True]\n",
            " [False]\n",
            " [ True]\n",
            " [False]\n",
            " [False]\n",
            " [False]\n",
            " [False]\n",
            " [False]\n",
            " [ True]\n",
            " [ True]\n",
            " [ True]\n",
            " [False]\n",
            " [False]\n",
            " [False]\n",
            " [False]\n",
            " [False]\n",
            " [False]\n",
            " [ True]\n",
            " [ True]\n",
            " [ True]\n",
            " [False]\n",
            " [False]\n",
            " [False]\n",
            " [ True]\n",
            " [ True]\n",
            " [False]\n",
            " [ True]\n",
            " [ True]\n",
            " [ True]\n",
            " [False]\n",
            " [False]\n",
            " [False]\n",
            " [False]\n",
            " [False]\n",
            " [ True]\n",
            " [False]\n",
            " [ True]\n",
            " [False]\n",
            " [ True]\n",
            " [ True]\n",
            " [False]\n",
            " [ True]\n",
            " [False]\n",
            " [False]\n",
            " [False]\n",
            " [False]\n",
            " [False]\n",
            " [ True]\n",
            " [False]\n",
            " [False]\n",
            " [False]\n",
            " [False]\n",
            " [False]\n",
            " [False]\n",
            " [False]\n",
            " [ True]\n",
            " [False]\n",
            " [False]\n",
            " [False]\n",
            " [ True]\n",
            " [False]\n",
            " [False]\n",
            " [False]\n",
            " [False]\n",
            " [ True]\n",
            " [False]\n",
            " [ True]\n",
            " [False]\n",
            " [False]\n",
            " [False]\n",
            " [False]\n",
            " [ True]\n",
            " [ True]\n",
            " [False]\n",
            " [False]\n",
            " [False]\n",
            " [False]\n",
            " [ True]\n",
            " [ True]\n",
            " [False]\n",
            " [False]\n",
            " [False]\n",
            " [False]\n",
            " [False]\n",
            " [False]\n",
            " [False]\n",
            " [False]\n",
            " [False]\n",
            " [False]\n",
            " [False]\n",
            " [ True]\n",
            " [False]\n",
            " [False]\n",
            " [False]\n",
            " [False]\n",
            " [ True]\n",
            " [False]\n",
            " [False]\n",
            " [ True]\n",
            " [False]\n",
            " [False]\n",
            " [ True]\n",
            " [False]\n",
            " [ True]\n",
            " [False]\n",
            " [ True]\n",
            " [False]\n",
            " [False]\n",
            " [ True]\n",
            " [False]\n",
            " [ True]\n",
            " [False]\n",
            " [ True]\n",
            " [False]\n",
            " [False]\n",
            " [False]\n",
            " [False]\n",
            " [False]\n",
            " [False]\n",
            " [False]\n",
            " [ True]\n",
            " [ True]\n",
            " [ True]]\n"
          ]
        }
      ]
    },
    {
      "cell_type": "code",
      "metadata": {
        "colab": {
          "base_uri": "https://localhost:8080/"
        },
        "id": "2O_gSHycK20l",
        "outputId": "6550078e-4fd7-42f1-cdda-3a762931d77c"
      },
      "source": [
        "cm = confusion_matrix(test_label, y_pred)\n",
        "ANN_score = accuracy_score(test_label,y_pred)\n",
        "report = classification_report(test_label, y_pred)\n",
        "\n",
        "print(cm)     # tp, fn, fp, tn\n",
        "print('score is:', ANN_score*100) \n",
        "print('\\nClassification report : \\n', report)"
      ],
      "execution_count": 26,
      "outputs": [
        {
          "output_type": "stream",
          "name": "stdout",
          "text": [
            "[[114   1]\n",
            " [  1  55]]\n",
            "score is: 98.83040935672514\n",
            "\n",
            "Classification report : \n",
            "               precision    recall  f1-score   support\n",
            "\n",
            "           0       0.99      0.99      0.99       115\n",
            "           1       0.98      0.98      0.98        56\n",
            "\n",
            "    accuracy                           0.99       171\n",
            "   macro avg       0.99      0.99      0.99       171\n",
            "weighted avg       0.99      0.99      0.99       171\n",
            "\n"
          ]
        }
      ]
    },
    {
      "cell_type": "code",
      "metadata": {
        "colab": {
          "base_uri": "https://localhost:8080/",
          "height": 428
        },
        "id": "25twx-fNK-9l",
        "outputId": "4d095ccf-a81b-46fd-f8ce-df9cbb94fbee"
      },
      "source": [
        "plt.figure(figsize=[14,7])\n",
        "sns.heatmap(cm,annot=True)\n",
        "plt.show()"
      ],
      "execution_count": 27,
      "outputs": [
        {
          "output_type": "display_data",
          "data": {
            "image/png": "[encoded data removed]",
            "text/plain": [
              "<Figure size 1008x504 with 2 Axes>"
            ]
          },
          "metadata": {
            "needs_background": "light"
          }
        }
      ]
    },
    {
      "cell_type": "code",
      "metadata": {
        "colab": {
          "base_uri": "https://localhost:8080/",
          "height": 312
        },
        "id": "VVpC5BwjOodU",
        "outputId": "e2f76602-4885-4397-c46c-7a2ad6f33031"
      },
      "source": [
        "# list all data in history\n",
        "print(model.history.keys())\n",
        "# summarize history for accuracy\n",
        "plt.plot(model.history['accuracy'])\n",
        "plt.title('model accuracy')\n",
        "plt.ylabel('accuracy')\n",
        "plt.xlabel('epoch')\n",
        "plt.legend(['train', 'test'], loc='upper left')\n",
        "plt.show()"
      ],
      "execution_count": 28,
      "outputs": [
        {
          "output_type": "stream",
          "name": "stdout",
          "text": [
            "dict_keys(['loss', 'accuracy'])\n"
          ]
        },
        {
          "output_type": "display_data",
          "data": {
            "image/png": "[encoded data removed]",
            "text/plain": [
              "<Figure size 432x288 with 1 Axes>"
            ]
          },
          "metadata": {
            "needs_background": "light"
          }
        }
      ]
    },
    {
      "cell_type": "code",
      "metadata": {
        "colab": {
          "base_uri": "https://localhost:8080/",
          "height": 295
        },
        "id": "N8OzucPxMAIQ",
        "outputId": "49ace8f4-c4ea-4e04-fbe8-a88315740acd"
      },
      "source": [
        "# summarize history for loss\n",
        "plt.plot(model.history['loss'])\n",
        "plt.title('model loss')\n",
        "plt.ylabel('loss')\n",
        "plt.xlabel('epoch')\n",
        "plt.legend(['train', 'test'], loc='upper left')\n",
        "plt.show()"
      ],
      "execution_count": 29,
      "outputs": [
        {
          "output_type": "display_data",
          "data": {
            "image/png": "[encoded data removed]",
            "text/plain": [
              "<Figure size 432x288 with 1 Axes>"
            ]
          },
          "metadata": {
            "needs_background": "light"
          }
        }
      ]
    },
    {
      "cell_type": "markdown",
      "metadata": {
        "id": "qy3AY6FlhDDs"
      },
      "source": [
        "# **Decision Tree Classifier**"
      ]
    },
    {
      "cell_type": "code",
      "metadata": {
        "colab": {
          "base_uri": "https://localhost:8080/"
        },
        "id": "c94EzxT6SSbZ",
        "outputId": "40048543-ff0c-402a-f2ec-ec7cbfdb194d"
      },
      "source": [
        "from sklearn.tree import DecisionTreeClassifier\n",
        "tree_model = DecisionTreeClassifier(max_depth= 3 , min_samples_leaf=12)\n",
        "\n",
        "tree_model.fit(train_data, train_label)\n",
        "\n",
        "acc = tree_model.score(train_data, train_label)    \n",
        "print(\"Train dataset Accuracy is \", acc*100)\n",
        "\n",
        "acc = tree_model.score(test_data, test_label)    \n",
        "print(\"Test dataset Accuracy is \", acc*100)\n",
        "\n",
        "y_pred = tree_model.predict(test_data)\n",
        "\n",
        "tree_acc = accuracy_score(test_label, y_pred)    \n",
        "print(\"Accuracy \", tree_acc*100)\n"
      ],
      "execution_count": 30,
      "outputs": [
        {
          "output_type": "stream",
          "name": "stdout",
          "text": [
            "Train dataset Accuracy is  94.72361809045226\n",
            "Test dataset Accuracy is  89.47368421052632\n",
            "Accuracy  89.47368421052632\n"
          ]
        }
      ]
    },
    {
      "cell_type": "markdown",
      "metadata": {
        "id": "aV3vbySmhbx9"
      },
      "source": [
        "**Model Evaluation**"
      ]
    },
    {
      "cell_type": "code",
      "metadata": {
        "colab": {
          "base_uri": "https://localhost:8080/"
        },
        "id": "owSoSQCRXy_x",
        "outputId": "ee74644d-62d5-4ab5-b9f8-4c04aff5559d"
      },
      "source": [
        "# Model Evaluation\n",
        "print('R^2:', r2_score(test_label, y_pred))\n",
        "print('Adjusted R^2:',1 - (1-r2_score(test_label, y_pred))*(len(test_label)-1)/(len(test_label)-test_data.shape[1]-1))\n",
        "print('MAE:', mean_absolute_error(test_label, y_pred))\n",
        "print('MSE:', mean_squared_error(test_label, y_pred))\n",
        "print('RMSE:',np.sqrt(mean_squared_error(test_label, y_pred)))"
      ],
      "execution_count": 31,
      "outputs": [
        {
          "output_type": "stream",
          "name": "stdout",
          "text": [
            "R^2: 0.5220496894409938\n",
            "Adjusted R^2: 0.41963176574977823\n",
            "MAE: 0.10526315789473684\n",
            "MSE: 0.10526315789473684\n",
            "RMSE: 0.3244428422615251\n"
          ]
        }
      ]
    },
    {
      "cell_type": "markdown",
      "metadata": {
        "id": "kpYla3TLhHWb"
      },
      "source": [
        "# **Random Forest Classifier**"
      ]
    },
    {
      "cell_type": "code",
      "metadata": {
        "colab": {
          "base_uri": "https://localhost:8080/"
        },
        "id": "JI6tKpEmbi6p",
        "outputId": "8e92cfb4-683d-4347-f2cd-b90aeb1330ba"
      },
      "source": [
        "from sklearn.ensemble import RandomForestClassifier\n",
        "\n",
        "rf_model = RandomForestClassifier()\n",
        "\n",
        "rf_model.fit(train_data, train_label)\n",
        "\n",
        "acc = rf_model.score(train_data, train_label)    \n",
        "print(\"Train dataset accuracy is\", acc*100)\n",
        "\n",
        "acc = rf_model.score(test_data, test_label)    \n",
        "print(\"Test dataset accuracy is\", acc*100)\n",
        "\n",
        "y_pred = rf_model.predict(test_data)\n",
        "\n",
        "rf_acc = accuracy_score(test_label, y_pred)    \n",
        "print(\"Accuracy is\", rf_acc*100)"
      ],
      "execution_count": 32,
      "outputs": [
        {
          "output_type": "stream",
          "name": "stdout",
          "text": [
            "Train dataset accuracy is 100.0\n",
            "Test dataset accuracy is 97.07602339181285\n",
            "Accuracy is 97.07602339181285\n"
          ]
        }
      ]
    },
    {
      "cell_type": "markdown",
      "metadata": {
        "id": "UTfWYoJqhj0s"
      },
      "source": [
        "**Model Evaluation**"
      ]
    },
    {
      "cell_type": "code",
      "metadata": {
        "colab": {
          "base_uri": "https://localhost:8080/"
        },
        "id": "QqFOKLzshiDC",
        "outputId": "5386d9a3-dfd3-4552-c28c-a1afe3362cfa"
      },
      "source": [
        "print('R^2:', r2_score(test_label, y_pred))\n",
        "print('Adjusted R^2:',1 - (1-r2_score(test_label, y_pred))*(len(test_label)-1)/(len(test_label)-test_data.shape[1]-1))\n",
        "print('MAE:', mean_absolute_error(test_label, y_pred))\n",
        "print('MSE:', mean_squared_error(test_label, y_pred))\n",
        "print('RMSE:',np.sqrt(mean_squared_error(test_label, y_pred)))"
      ],
      "execution_count": 33,
      "outputs": [
        {
          "output_type": "stream",
          "name": "stdout",
          "text": [
            "R^2: 0.8672360248447205\n",
            "Adjusted R^2: 0.8387866015971606\n",
            "MAE: 0.029239766081871343\n",
            "MSE: 0.029239766081871343\n",
            "RMSE: 0.17099639201419234\n"
          ]
        }
      ]
    },
    {
      "cell_type": "markdown",
      "metadata": {
        "id": "viAfFpVHhyt6"
      },
      "source": [
        "# **K-Neighbors Classifier**"
      ]
    },
    {
      "cell_type": "code",
      "metadata": {
        "colab": {
          "base_uri": "https://localhost:8080/"
        },
        "id": "cRkCtsANdGyf",
        "outputId": "d46ce855-fae0-4253-bb14-cf975d31624f"
      },
      "source": [
        "from sklearn.neighbors import KNeighborsClassifier\n",
        "\n",
        "knn_model = KNeighborsClassifier(3)\n",
        "\n",
        "knn_model.fit(train_data, train_label)\n",
        "\n",
        "acc = knn_model.score(train_data, train_label)    \n",
        "print(\"Train dataset Accuracy is\", acc*100)\n",
        "\n",
        "acc = knn_model.score(test_data, test_label)    \n",
        "print(\"Test dataset Accuracy is\", acc*100)\n",
        "\n",
        "y_pred = knn_model.predict(test_data)\n",
        "\n",
        "knn_acc = accuracy_score(test_label, y_pred)    \n",
        "print(\"Accuracy is\", knn_acc*100)"
      ],
      "execution_count": 34,
      "outputs": [
        {
          "output_type": "stream",
          "name": "stdout",
          "text": [
            "Train dataset Accuracy is 98.49246231155779\n",
            "Test dataset Accuracy is 96.49122807017544\n",
            "Accuracy is 96.49122807017544\n"
          ]
        }
      ]
    },
    {
      "cell_type": "markdown",
      "metadata": {
        "id": "cND7WygQh9wC"
      },
      "source": [
        "**Model Evaluation**"
      ]
    },
    {
      "cell_type": "code",
      "metadata": {
        "colab": {
          "base_uri": "https://localhost:8080/"
        },
        "id": "-ItrKISHh8yp",
        "outputId": "6941bf79-4455-40b7-b2d0-b7bdd449ca77"
      },
      "source": [
        "print('R^2:', r2_score(test_label, y_pred))\n",
        "print('Adjusted R^2:',1 - (1-r2_score(test_label, y_pred))*(len(test_label)-1)/(len(test_label)-test_data.shape[1]-1))\n",
        "print('MAE:', mean_absolute_error(test_label, y_pred))\n",
        "print('MSE:', mean_squared_error(test_label, y_pred))\n",
        "print('RMSE:',np.sqrt(mean_squared_error(test_label, y_pred)))"
      ],
      "execution_count": 35,
      "outputs": [
        {
          "output_type": "stream",
          "name": "stdout",
          "text": [
            "R^2: 0.8406832298136646\n",
            "Adjusted R^2: 0.8065439219165927\n",
            "MAE: 0.03508771929824561\n",
            "MSE: 0.03508771929824561\n",
            "RMSE: 0.1873171623163388\n"
          ]
        }
      ]
    },
    {
      "cell_type": "markdown",
      "metadata": {
        "id": "I76tNLz0iC41"
      },
      "source": [
        "# **Support Vector Machine**"
      ]
    },
    {
      "cell_type": "code",
      "metadata": {
        "colab": {
          "base_uri": "https://localhost:8080/"
        },
        "id": "emq8KnzSf_F5",
        "outputId": "0ffb41a4-3c3a-474d-da84-43fa4f31dac9"
      },
      "source": [
        "from sklearn.svm import SVC\n",
        "\n",
        "svm_model = SVC(probability=True, random_state=1)\n",
        "\n",
        "svm_model.fit(train_data, train_label)\n",
        "\n",
        "acc = svm_model.score(train_data, train_label)    \n",
        "print(\"Train dataset Accuracy is\", acc*100)\n",
        "\n",
        "acc = svm_model.score(test_data, test_label)    \n",
        "print(\"Test dataset Accuracy is\", acc*100)\n",
        "\n",
        "y_pred = svm_model.predict(test_data)\n",
        "\n",
        "svm_acc = accuracy_score(test_label, y_pred)    \n",
        "print(\"Accuracy is\", svm_acc*100)"
      ],
      "execution_count": 56,
      "outputs": [
        {
          "output_type": "stream",
          "name": "stdout",
          "text": [
            "Train dataset Accuracy is 98.99497487437185\n",
            "Test dataset Accuracy is 98.83040935672514\n",
            "Accuracy is 98.83040935672514\n"
          ]
        }
      ]
    },
    {
      "cell_type": "markdown",
      "metadata": {
        "id": "z092pubmiJSf"
      },
      "source": [
        "**Model Evaluation**"
      ]
    },
    {
      "cell_type": "code",
      "metadata": {
        "colab": {
          "base_uri": "https://localhost:8080/"
        },
        "id": "o_0Bl6QniIcd",
        "outputId": "0f49112c-6a3f-43f3-85b4-239ba280ed75"
      },
      "source": [
        "print('R^2:', r2_score(test_label, y_pred))\n",
        "print('Adjusted R^2:',1 - (1-r2_score(test_label, y_pred))*(len(test_label)-1)/(len(test_label)-test_data.shape[1]-1))\n",
        "print('MAE:', mean_absolute_error(test_label, y_pred))\n",
        "print('MSE:', mean_squared_error(test_label, y_pred))\n",
        "print('RMSE:',np.sqrt(mean_squared_error(test_label, y_pred)))"
      ],
      "execution_count": 37,
      "outputs": [
        {
          "output_type": "stream",
          "name": "stdout",
          "text": [
            "R^2: 0.9468944099378882\n",
            "Adjusted R^2: 0.9355146406388642\n",
            "MAE: 0.011695906432748537\n",
            "MSE: 0.011695906432748537\n",
            "RMSE: 0.10814761408717502\n"
          ]
        }
      ]
    },
    {
      "cell_type": "markdown",
      "metadata": {
        "id": "xoqeWFCoiSBf"
      },
      "source": [
        "# **AdaBoostClassifier**"
      ]
    },
    {
      "cell_type": "code",
      "metadata": {
        "colab": {
          "base_uri": "https://localhost:8080/"
        },
        "id": "JC6P5PhCgYEq",
        "outputId": "3d1991e1-3ca5-4868-84bd-4c97f1177e8c"
      },
      "source": [
        "from sklearn.ensemble import AdaBoostClassifier\n",
        "\n",
        "ada_model = AdaBoostClassifier(n_estimators=100, random_state=0)\n",
        "\n",
        "ada_model.fit(train_data, train_label)\n",
        "\n",
        "acc = ada_model.score(train_data, train_label)    \n",
        "print(\"Train dataset Accuracy is\", acc*100)\n",
        "\n",
        "acc = ada_model.score(test_data, test_label)    \n",
        "print(\"Test dataset Accuracy is\", acc*100)\n",
        "\n",
        "y_pred = ada_model.predict(test_data)\n",
        "\n",
        "ada_acc = accuracy_score(test_label, y_pred)    \n",
        "print(\"Accuracy is\", ada_acc*100)"
      ],
      "execution_count": 38,
      "outputs": [
        {
          "output_type": "stream",
          "name": "stdout",
          "text": [
            "Train dataset Accuracy is 100.0\n",
            "Test dataset Accuracy is 97.07602339181285\n",
            "Accuracy is 97.07602339181285\n"
          ]
        }
      ]
    },
    {
      "cell_type": "code",
      "metadata": {
        "colab": {
          "base_uri": "https://localhost:8080/"
        },
        "id": "PHGE6wQHiZ9t",
        "outputId": "5d7e0d08-2728-4ac9-bc83-64315e2abc6d"
      },
      "source": [
        "# Model Evaluation\n",
        "print('R^2:', r2_score(test_label, y_pred))\n",
        "print('Adjusted R^2:',1 - (1-r2_score(test_label, y_pred))*(len(test_label)-1)/(len(test_label)-test_data.shape[1]-1))\n",
        "print('MAE:', mean_absolute_error(test_label, y_pred))\n",
        "print('MSE:', mean_squared_error(test_label, y_pred))\n",
        "print('RMSE:',np.sqrt(mean_squared_error(test_label, y_pred)))"
      ],
      "execution_count": 39,
      "outputs": [
        {
          "output_type": "stream",
          "name": "stdout",
          "text": [
            "R^2: 0.8672360248447205\n",
            "Adjusted R^2: 0.8387866015971606\n",
            "MAE: 0.029239766081871343\n",
            "MSE: 0.029239766081871343\n",
            "RMSE: 0.17099639201419234\n"
          ]
        }
      ]
    },
    {
      "cell_type": "markdown",
      "metadata": {
        "id": "j3GbI14YihyD"
      },
      "source": [
        "# **Bagging Classifier**"
      ]
    },
    {
      "cell_type": "code",
      "metadata": {
        "colab": {
          "base_uri": "https://localhost:8080/"
        },
        "id": "iAyMbdKCg0rR",
        "outputId": "6c7d0022-92a9-4cdc-b50c-c6c8c3398af4"
      },
      "source": [
        "from sklearn.ensemble import BaggingClassifier\n",
        "\n",
        "bgc_model = BaggingClassifier(base_estimator=SVC(),\n",
        "                       n_estimators=10, random_state=0)\n",
        "\n",
        "bgc_model.fit(train_data, train_label)\n",
        "\n",
        "acc = bgc_model.score(train_data, train_label)    \n",
        "print(\"Train dataset Accuracy is\", acc*100)\n",
        "\n",
        "acc = bgc_model.score(test_data, test_label)    \n",
        "print(\"Test dataset Accuracy is\", acc*100)\n",
        "\n",
        "y_pred = bgc_model.predict(test_data)\n",
        "\n",
        "bgc_acc = accuracy_score(test_label, y_pred)    \n",
        "print(\"Accuracy is\", bgc_acc*100)"
      ],
      "execution_count": 40,
      "outputs": [
        {
          "output_type": "stream",
          "name": "stdout",
          "text": [
            "Train dataset Accuracy is 98.49246231155779\n",
            "Test dataset Accuracy is 99.41520467836257\n",
            "Accuracy is 99.41520467836257\n"
          ]
        }
      ]
    },
    {
      "cell_type": "code",
      "metadata": {
        "colab": {
          "base_uri": "https://localhost:8080/"
        },
        "id": "HXpRwfqBiyg7",
        "outputId": "6e2c4d94-2401-430f-f060-cf493696a368"
      },
      "source": [
        "# Model Evaluation\n",
        "print('R^2:', r2_score(test_label, y_pred))\n",
        "print('Adjusted R^2:',1 - (1-r2_score(test_label, y_pred))*(len(test_label)-1)/(len(test_label)-test_data.shape[1]-1))\n",
        "print('MAE:', mean_absolute_error(test_label, y_pred))\n",
        "print('MSE:', mean_squared_error(test_label, y_pred))\n",
        "print('RMSE:',np.sqrt(mean_squared_error(test_label, y_pred)))"
      ],
      "execution_count": 41,
      "outputs": [
        {
          "output_type": "stream",
          "name": "stdout",
          "text": [
            "R^2: 0.9734472049689441\n",
            "Adjusted R^2: 0.9677573203194321\n",
            "MAE: 0.005847953216374269\n",
            "MSE: 0.005847953216374269\n",
            "RMSE: 0.07647191129018725\n"
          ]
        }
      ]
    },
    {
      "cell_type": "code",
      "metadata": {
        "colab": {
          "base_uri": "https://localhost:8080/",
          "height": 269
        },
        "id": "LJbtq4p0jLs0",
        "outputId": "a71a802e-999b-47be-ec45-e89f9a6d4654"
      },
      "source": [
        "scores = {\"ANN\" : ANN_score,\"Decision Tree Classifier\" : tree_acc, \"K-Neighbors Classifier\" : knn_acc,\n",
        "          \"Random Forest Classifier\" : rf_acc, \"Support Vector Machine\" : svm_acc, \"Bagging Classifier\" : bgc_acc, \n",
        "          \"Ada Boost Classifier\" : ada_acc}\n",
        "          \n",
        "df = pd.DataFrame(list(scores.items()),columns = ['Models','Accuracy scores']) \n",
        "df"
      ],
      "execution_count": 42,
      "outputs": [
        {
          "output_type": "execute_result",
          "data": {
            "text/html": [
              "<div>\n",
              "<style scoped>\n",
              "    .dataframe tbody tr th:only-of-type {\n",
              "        vertical-align: middle;\n",
              "    }\n",
              "\n",
              "    .dataframe tbody tr th {\n",
              "        vertical-align: top;\n",
              "    }\n",
              "\n",
              "    .dataframe thead th {\n",
              "        text-align: right;\n",
              "    }\n",
              "</style>\n",
              "<table border=\"1\" class=\"dataframe\">\n",
              "  <thead>\n",
              "    <tr style=\"text-align: right;\">\n",
              "      <th></th>\n",
              "      <th>Models</th>\n",
              "      <th>Accuracy scores</th>\n",
              "    </tr>\n",
              "  </thead>\n",
              "  <tbody>\n",
              "    <tr>\n",
              "      <th>0</th>\n",
              "      <td>ANN</td>\n",
              "      <td>0.988304</td>\n",
              "    </tr>\n",
              "    <tr>\n",
              "      <th>1</th>\n",
              "      <td>Decision Tree Classifier</td>\n",
              "      <td>0.894737</td>\n",
              "    </tr>\n",
              "    <tr>\n",
              "      <th>2</th>\n",
              "      <td>K-Neighbors Classifier</td>\n",
              "      <td>0.964912</td>\n",
              "    </tr>\n",
              "    <tr>\n",
              "      <th>3</th>\n",
              "      <td>Random Forest Classifier</td>\n",
              "      <td>0.970760</td>\n",
              "    </tr>\n",
              "    <tr>\n",
              "      <th>4</th>\n",
              "      <td>Support Vector Machine</td>\n",
              "      <td>0.988304</td>\n",
              "    </tr>\n",
              "    <tr>\n",
              "      <th>5</th>\n",
              "      <td>Bagging Classifier</td>\n",
              "      <td>0.994152</td>\n",
              "    </tr>\n",
              "    <tr>\n",
              "      <th>6</th>\n",
              "      <td>Ada Boost Classifier</td>\n",
              "      <td>0.970760</td>\n",
              "    </tr>\n",
              "  </tbody>\n",
              "</table>\n",
              "</div>"
            ],
            "text/plain": [
              "                     Models  Accuracy scores\n",
              "0                       ANN         0.988304\n",
              "1  Decision Tree Classifier         0.894737\n",
              "2    K-Neighbors Classifier         0.964912\n",
              "3  Random Forest Classifier         0.970760\n",
              "4    Support Vector Machine         0.988304\n",
              "5        Bagging Classifier         0.994152\n",
              "6      Ada Boost Classifier         0.970760"
            ]
          },
          "metadata": {},
          "execution_count": 42
        }
      ]
    },
    {
      "cell_type": "code",
      "metadata": {
        "colab": {
          "base_uri": "https://localhost:8080/",
          "height": 269
        },
        "id": "EOuaKC9alh5U",
        "outputId": "6b65ecc4-ebe3-4dac-bd4a-c6521ac330da"
      },
      "source": [
        "df.sort_values(by= 'Accuracy scores', ascending= False)"
      ],
      "execution_count": 43,
      "outputs": [
        {
          "output_type": "execute_result",
          "data": {
            "text/html": [
              "<div>\n",
              "<style scoped>\n",
              "    .dataframe tbody tr th:only-of-type {\n",
              "        vertical-align: middle;\n",
              "    }\n",
              "\n",
              "    .dataframe tbody tr th {\n",
              "        vertical-align: top;\n",
              "    }\n",
              "\n",
              "    .dataframe thead th {\n",
              "        text-align: right;\n",
              "    }\n",
              "</style>\n",
              "<table border=\"1\" class=\"dataframe\">\n",
              "  <thead>\n",
              "    <tr style=\"text-align: right;\">\n",
              "      <th></th>\n",
              "      <th>Models</th>\n",
              "      <th>Accuracy scores</th>\n",
              "    </tr>\n",
              "  </thead>\n",
              "  <tbody>\n",
              "    <tr>\n",
              "      <th>5</th>\n",
              "      <td>Bagging Classifier</td>\n",
              "      <td>0.994152</td>\n",
              "    </tr>\n",
              "    <tr>\n",
              "      <th>0</th>\n",
              "      <td>ANN</td>\n",
              "      <td>0.988304</td>\n",
              "    </tr>\n",
              "    <tr>\n",
              "      <th>4</th>\n",
              "      <td>Support Vector Machine</td>\n",
              "      <td>0.988304</td>\n",
              "    </tr>\n",
              "    <tr>\n",
              "      <th>3</th>\n",
              "      <td>Random Forest Classifier</td>\n",
              "      <td>0.970760</td>\n",
              "    </tr>\n",
              "    <tr>\n",
              "      <th>6</th>\n",
              "      <td>Ada Boost Classifier</td>\n",
              "      <td>0.970760</td>\n",
              "    </tr>\n",
              "    <tr>\n",
              "      <th>2</th>\n",
              "      <td>K-Neighbors Classifier</td>\n",
              "      <td>0.964912</td>\n",
              "    </tr>\n",
              "    <tr>\n",
              "      <th>1</th>\n",
              "      <td>Decision Tree Classifier</td>\n",
              "      <td>0.894737</td>\n",
              "    </tr>\n",
              "  </tbody>\n",
              "</table>\n",
              "</div>"
            ],
            "text/plain": [
              "                     Models  Accuracy scores\n",
              "5        Bagging Classifier         0.994152\n",
              "0                       ANN         0.988304\n",
              "4    Support Vector Machine         0.988304\n",
              "3  Random Forest Classifier         0.970760\n",
              "6      Ada Boost Classifier         0.970760\n",
              "2    K-Neighbors Classifier         0.964912\n",
              "1  Decision Tree Classifier         0.894737"
            ]
          },
          "metadata": {},
          "execution_count": 43
        }
      ]
    },
    {
      "cell_type": "markdown",
      "metadata": {
        "id": "2sx6RNvtm0mb"
      },
      "source": [
        "### **ANN model has higher accuracy than machine models**"
      ]
    },
    {
      "cell_type": "markdown",
      "metadata": {
        "id": "MvL6txTLeqp5"
      },
      "source": [
        "# **AUC_ROC Curve**"
      ]
    },
    {
      "cell_type": "code",
      "metadata": {
        "id": "N5gb3pqelxeS"
      },
      "source": [
        "# predict probabilities\n",
        "pred_prob1 = rf_model.predict_proba(test_data)\n",
        "pred_prob2 = knn_model.predict_proba(test_data)\n",
        "pred_prob3 = svm_model.predict_proba(test_data)\n",
        "pred_prob4 = ada_model.predict_proba(test_data)\n",
        "pred_prob5 = tree_model.predict_proba(test_data)\n",
        "pred_prob6 = bgc_model.predict_proba(test_data)"
      ],
      "execution_count": 57,
      "outputs": []
    },
    {
      "cell_type": "code",
      "metadata": {
        "id": "TiIuFSMSmQBm"
      },
      "source": [
        "from sklearn.metrics import roc_curve\n",
        "\n",
        "# roc curve for models\n",
        "fpr1, tpr1, thresh1 = roc_curve(test_label, pred_prob1[:,1], pos_label=1)\n",
        "fpr2, tpr2, thresh2 = roc_curve(test_label, pred_prob2[:,1], pos_label=1)\n",
        "fpr3, tpr3, thresh3 = roc_curve(test_label, pred_prob3[:,1], pos_label=1)\n",
        "fpr4, tpr4, thresh4 = roc_curve(test_label, pred_prob4[:,1], pos_label=1)\n",
        "fpr5, tpr5, thresh5 = roc_curve(test_label, pred_prob5[:,1], pos_label=1)\n",
        "fpr6, tpr6, thresh6 = roc_curve(test_label, pred_prob6[:,1], pos_label=1)\n",
        "\n",
        "# roc curve for tpr = fpr \n",
        "random_probs = [0 for i in range(len(test_label))]\n",
        "p_fpr, p_tpr, _ = roc_curve(test_label, random_probs, pos_label=1)"
      ],
      "execution_count": 61,
      "outputs": []
    },
    {
      "cell_type": "code",
      "metadata": {
        "colab": {
          "base_uri": "https://localhost:8080/"
        },
        "id": "0ZEQZZpNbaUh",
        "outputId": "4a946025-bd39-44d5-e47d-54661a5c3e57"
      },
      "source": [
        "\n",
        "from sklearn.metrics import roc_auc_score\n",
        "\n",
        "# auc scores\n",
        "auc_score1 = roc_auc_score(test_label, pred_prob1[:,1])\n",
        "auc_score2 = roc_auc_score(test_label, pred_prob2[:,1])\n",
        "auc_score3 = roc_auc_score(test_label, pred_prob3[:,1])\n",
        "auc_score4 = roc_auc_score(test_label, pred_prob4[:,1])\n",
        "auc_score5 = roc_auc_score(test_label, pred_prob5[:,1])\n",
        "auc_score6 = roc_auc_score(test_label, pred_prob6[:,1])\n",
        "\n",
        "print(\"AUC score for Random Forest Classifier \", auc_score1)\n",
        "print(\"AUC score for K Neighbors Classifier \", auc_score2)\n",
        "print(\"AUC score for SVM Classifier \", auc_score3)\n",
        "print(\"AUC score for Ada Boost Classifier \", auc_score4)\n",
        "print(\"AUC score for Decision Tree Classifier \", auc_score5)\n",
        "print(\"AUC score for Bagging Classifier \", auc_score6)"
      ],
      "execution_count": 64,
      "outputs": [
        {
          "output_type": "stream",
          "name": "stdout",
          "text": [
            "AUC score for Random Forest Classifier  0.9835403726708074\n",
            "AUC score for K Neighbors Classifier  0.9798136645962734\n",
            "AUC score for SVM Classifier  0.9975155279503106\n",
            "AUC score for Ada Boost Classifier  0.9923913043478261\n",
            "AUC score for Decision Tree Classifier  0.9465062111801242\n",
            "AUC score for Bagging Classifier  0.9906832298136646\n"
          ]
        }
      ]
    },
    {
      "cell_type": "code",
      "metadata": {
        "colab": {
          "base_uri": "https://localhost:8080/",
          "height": 376
        },
        "id": "L2Y5xlw5b79z",
        "outputId": "f60c2690-1eef-4bb4-fbba-710b1fa91d68"
      },
      "source": [
        "# matplotlib\n",
        "import matplotlib.pyplot as plt\n",
        "plt.style.use('seaborn')\n",
        "\n",
        "# plot roc curves\n",
        "plt.plot(fpr1, tpr1, linestyle='--',color='orange', label='Random Forest Classifier')\n",
        "plt.plot(fpr2, tpr2, linestyle='--',color='green', label='K-Neighbors Classifier')\n",
        "plt.plot(fpr3, tpr3, linestyle='--',color='grey', label='SVM Classifier')\n",
        "plt.plot(fpr4, tpr4, linestyle='--',color='red', label='Ada Boost Classifier')\n",
        "plt.plot(fpr5, tpr5, linestyle='--',color='yellow', label='Decision Tree Classifier')\n",
        "plt.plot(fpr6, tpr6, linestyle='--',color='brown', label='Bagging Classifier')\n",
        "plt.plot(p_fpr, p_tpr, linestyle='--', color='blue')\n",
        "# title\n",
        "plt.title('ROC curve')\n",
        "# x label\n",
        "plt.xlabel('False Positive Rate')\n",
        "# y label\n",
        "plt.ylabel('True Positive rate')\n",
        "\n",
        "plt.legend(loc='best')\n",
        "plt.savefig('ROC',dpi=300)\n",
        "plt.show();"
      ],
      "execution_count": 65,
      "outputs": [
        {
          "output_type": "display_data",
          "data": {
            "image/png": "[encoded data removed]",
            "text/plain": [
              "<Figure size 576x396 with 1 Axes>"
            ]
          },
          "metadata": {}
        }
      ]
    },
    {
      "cell_type": "code",
      "metadata": {
        "id": "KdcOKKvebzjd"
      },
      "source": [
        ""
      ],
      "execution_count": null,
      "outputs": []
    }
  ]
}